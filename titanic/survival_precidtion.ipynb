{
 "cells": [
  {
   "cell_type": "code",
   "execution_count": 1,
   "id": "5edea7f0",
   "metadata": {},
   "outputs": [],
   "source": [
    "import os\n",
    "import torch\n",
    "import numpy as np\n",
    "import pandas as pd\n",
    "\n",
    "from tqdm import tqdm"
   ]
  },
  {
   "cell_type": "markdown",
   "id": "8e2d2e80",
   "metadata": {},
   "source": [
    "# Configuration"
   ]
  },
  {
   "cell_type": "code",
   "execution_count": 2,
   "id": "fb335e29",
   "metadata": {},
   "outputs": [],
   "source": [
    "config = {\n",
    "    'data_root': './data',\n",
    "    'batch_size': 64,\n",
    "    'num_worker': 8,\n",
    "    \n",
    "    'mlp_arch': [10, 16, 8, 1],\n",
    "    \n",
    "    'trainer': 'Adam',\n",
    "    'num_epoch': 5000,\n",
    "    'learning_rate': 0.1,\n",
    "    'early_stop_epoch': 10,\n",
    "    'save_period': 1\n",
    "}"
   ]
  },
  {
   "cell_type": "markdown",
   "id": "f7879af3",
   "metadata": {},
   "source": [
    "# Utils"
   ]
  },
  {
   "cell_type": "code",
   "execution_count": 3,
   "id": "fabf94cd",
   "metadata": {},
   "outputs": [],
   "source": [
    "from torch.utils.data import random_split"
   ]
  },
  {
   "cell_type": "code",
   "execution_count": 4,
   "id": "a7c6e3a6",
   "metadata": {},
   "outputs": [],
   "source": [
    "def train_valid_split(full_dataset, valid_ratio):\n",
    "    train_set, valid_set = random_split(full_dataset, [1-valid_ratio, valid_ratio])\n",
    "    return train_set, valid_set"
   ]
  },
  {
   "cell_type": "markdown",
   "id": "918702f2",
   "metadata": {},
   "source": [
    "# Dataset"
   ]
  },
  {
   "cell_type": "code",
   "execution_count": 5,
   "id": "d9ef94ba",
   "metadata": {},
   "outputs": [],
   "source": [
    "from torch.utils.data import Dataset"
   ]
  },
  {
   "cell_type": "code",
   "execution_count": 6,
   "id": "29bf56dd",
   "metadata": {},
   "outputs": [],
   "source": [
    "class TitanicDataset(Dataset):\n",
    "    def __init__(self, data_root, training=False, transform=None):\n",
    "        self.data_root = data_root\n",
    "        self.training = training\n",
    "        self.transform = transform\n",
    "        \n",
    "        if training:\n",
    "            file_name = 'train.csv'\n",
    "        else:\n",
    "            file_name = 'test.csv'\n",
    "            \n",
    "        self.dataset = pd.read_csv(os.path.join(data_root, file_name))\n",
    "        \n",
    "    def __len__(self):\n",
    "        return len(self.dataset)\n",
    "\n",
    "    def __getitem__(self, idx):  \n",
    "        pclass = np.array(self.dataset['Pclass'][idx], dtype=np.float64)\n",
    "        name = self.dataset['Name'][idx] # not used\n",
    "        sex = np.array(pd.get_dummies(self.dataset['Sex']).iloc[idx], dtype=np.float64)\n",
    "        age = np.array(self.dataset['Age'][idx] if not np.isnan(self.dataset['Age'][idx]) else -1, dtype=np.float64)\n",
    "        sibsp = np.array(self.dataset['SibSp'][idx], dtype=np.float64)\n",
    "        parch = np.array(self.dataset['Parch'][idx], dtype=np.float64)\n",
    "        ticket = self.dataset['Ticket'][idx] # not used\n",
    "        fare = np.array(self.dataset['Fare'][idx], dtype=np.float64)\n",
    "        cabin = self.dataset['Cabin'][idx] # not used\n",
    "        embarked = np.array(pd.get_dummies(self.dataset['Embarked']).iloc[idx], dtype=np.float64)\n",
    "        \n",
    "        if self.training:\n",
    "            label = np.array(self.dataset['Survived'][idx], dtype=np.float64)\n",
    "        else:\n",
    "            label = None\n",
    "        \n",
    "        # feature: [paclass, female, male, age, sibsp, parch, fare, embarked(C), embarked(Q), embarked(S)]\n",
    "        feature = np.concatenate((pclass, sex, age, sibsp, parch, fare, embarked), axis=None)\n",
    "        sample = {'feature': feature, 'label': label}\n",
    "        if self.transform:\n",
    "            return self.transform(sample)\n",
    "        else:\n",
    "            return sample"
   ]
  },
  {
   "cell_type": "code",
   "execution_count": 7,
   "id": "eecc60dc",
   "metadata": {},
   "outputs": [
    {
     "data": {
      "text/plain": [
       "{'feature': array([ 1. ,  1. ,  0. , 35. ,  1. ,  0. , 53.1,  0. ,  0. ,  1. ]),\n",
       " 'label': array(1.)}"
      ]
     },
     "execution_count": 7,
     "metadata": {},
     "output_type": "execute_result"
    }
   ],
   "source": [
    "dataset = TitanicDataset(data_root=config['data_root'], training=True)\n",
    "train_set, valid_set = train_valid_split(dataset, 0.1)\n",
    "dataset.__getitem__(3)"
   ]
  },
  {
   "cell_type": "markdown",
   "id": "b262c16b",
   "metadata": {},
   "source": [
    "# Data Loader"
   ]
  },
  {
   "cell_type": "code",
   "execution_count": 8,
   "id": "be4c7375",
   "metadata": {},
   "outputs": [],
   "source": [
    "from torch.utils.data import DataLoader"
   ]
  },
  {
   "cell_type": "markdown",
   "id": "3e33f5db",
   "metadata": {},
   "source": [
    "## Transforms"
   ]
  },
  {
   "cell_type": "code",
   "execution_count": 9,
   "id": "9bbb36d8",
   "metadata": {},
   "outputs": [],
   "source": [
    "class ToTensor():\n",
    "\n",
    "    def __init__(self) -> None:\n",
    "        pass\n",
    "\n",
    "    def __call__(self, data: dict) -> dict:\n",
    "        for k, v in data.items():\n",
    "            data[k] = torch.from_numpy(v).to(dtype=torch.get_default_dtype())\n",
    "        return data"
   ]
  },
  {
   "cell_type": "markdown",
   "id": "4d70623c",
   "metadata": {},
   "source": [
    "# Network"
   ]
  },
  {
   "cell_type": "code",
   "execution_count": 10,
   "id": "f5bec9ab",
   "metadata": {},
   "outputs": [],
   "source": [
    "import torch.nn as nn"
   ]
  },
  {
   "cell_type": "code",
   "execution_count": 11,
   "id": "eaa31427",
   "metadata": {},
   "outputs": [],
   "source": [
    "class SurvivalNet(nn.Module):\n",
    "    \n",
    "    def __init__(self, mlp_arch, device=None, dtype=None):\n",
    "        super().__init__()\n",
    "        self.mlp = nn.Sequential(*[\n",
    "            self.mlp_block(mlp_arch[i-1], mlp_arch[i]) for i in range(1, len(mlp_arch)-1)\n",
    "        ])\n",
    "        self.output_layer = nn.Sequential(\n",
    "            nn.Linear(mlp_arch[-2], mlp_arch[-1]),\n",
    "            nn.Softmax(dim=0)\n",
    "        )\n",
    "    \n",
    "    def forward(self, x):\n",
    "        x = self.mlp(x)\n",
    "        x = self.output_layer(x)\n",
    "        x = x.squeeze(1)\n",
    "        return x\n",
    "    \n",
    "    def mlp_block(self, dim_input, dim_output):\n",
    "        return nn.Sequential(\n",
    "            nn.BatchNorm1d(dim_input),\n",
    "            nn.Linear(dim_input, dim_output),\n",
    "            nn.ReLU()\n",
    "        )"
   ]
  },
  {
   "cell_type": "code",
   "execution_count": 12,
   "id": "0a1a442d",
   "metadata": {
    "scrolled": false
   },
   "outputs": [
    {
     "name": "stdout",
     "output_type": "stream",
     "text": [
      "torch.float32\n"
     ]
    }
   ],
   "source": [
    "net = SurvivalNet([2,4,3,1])\n",
    "input_t = torch.Tensor([1.0, 2.0])\n",
    "input_t = torch.randn(20, 2)\n",
    "print(net(input_t).dtype)"
   ]
  },
  {
   "cell_type": "markdown",
   "id": "fdd7598f",
   "metadata": {},
   "source": [
    "# Loss"
   ]
  },
  {
   "cell_type": "code",
   "execution_count": 13,
   "id": "1e5965b0",
   "metadata": {},
   "outputs": [],
   "source": [
    "loss = nn.CrossEntropyLoss()"
   ]
  },
  {
   "cell_type": "markdown",
   "id": "5b0e8446",
   "metadata": {},
   "source": [
    "# Metrics"
   ]
  },
  {
   "cell_type": "code",
   "execution_count": 14,
   "id": "5658c288",
   "metadata": {},
   "outputs": [],
   "source": [
    "def accurancy(prediction, target):\n",
    "    assert len(prediction) == len(target)\n",
    "    predition = torch.round(prediction)\n",
    "    correct = torch.sum(torch.abs(prediction - target))\n",
    "    return correct / len(target)"
   ]
  },
  {
   "cell_type": "markdown",
   "id": "c4eca94e",
   "metadata": {},
   "source": [
    "# Trainer"
   ]
  },
  {
   "cell_type": "code",
   "execution_count": 15,
   "id": "35204fd7",
   "metadata": {},
   "outputs": [],
   "source": [
    "from torch.utils.tensorboard import SummaryWriter"
   ]
  },
  {
   "cell_type": "code",
   "execution_count": 16,
   "id": "1e40acd0",
   "metadata": {
    "code_folding": []
   },
   "outputs": [],
   "source": [
    "class Trainer:\n",
    "    \n",
    "    def __init__(self,\n",
    "        num_epoch, train_data_loader, valid_data_loader, model, optimizer, lr_scheduler, criterion, metric, early_stop_epoch, save_period, device\n",
    "    ):\n",
    "        self.num_epoch = num_epoch\n",
    "        \n",
    "        self.train_data_loader = train_data_loader\n",
    "        self.valid_data_loader = valid_data_loader\n",
    "        self.model = model\n",
    "        self.optimizer = optimizer\n",
    "        self.lr_scheduler = lr_scheduler\n",
    "        self.criterion = criterion\n",
    "        self.metric = metric\n",
    "        self.early_stop_epoch = early_stop_epoch\n",
    "        self.save_period = save_period\n",
    "        self.device = device\n",
    "        \n",
    "        self.acc_best = 0\n",
    "        self.not_improved_count = 0\n",
    "        self.writer = SummaryWriter('./run/log')\n",
    "        self.early_stop = False\n",
    "    \n",
    "    def train(self):\n",
    "        for epoch in tqdm(range(self.num_epoch)):\n",
    "            self.__train_epoch(epoch)\n",
    "            self.__valid_epoch(epoch)\n",
    "    \n",
    "    def __train_epoch(self, epoch):\n",
    "        loss_record = []\n",
    "        acc_record = []\n",
    "        \n",
    "        self.model.train()\n",
    "        for batch_idx, data in enumerate(self.train_data_loader):\n",
    "            feature = data['feature'].to(self.device)\n",
    "            label = data['label'].to(self.device)\n",
    "            \n",
    "            self.optimizer.zero_grad()\n",
    "            output = self.model(feature)\n",
    "            loss = self.criterion(output, label)\n",
    "            loss.backward()\n",
    "            self.optimizer.step()\n",
    "            \n",
    "            # record improved or not\n",
    "            acc = self.metric(output, label)\n",
    "            improved = (acc > self.acc_best)\n",
    "            if improved:\n",
    "                self.not_improved_count = 0\n",
    "                self.acc_best = acc\n",
    "            else:\n",
    "                self.not_improved_count += 1\n",
    "            \n",
    "            # early stop\n",
    "            if self.not_improved_count >= self.early_stop:\n",
    "                self.early_stop = True\n",
    "            \n",
    "            # learning rate scheduler\n",
    "            if lr_scheduler:\n",
    "                self.lr_scheduler.step()\n",
    "            \n",
    "            # save model\n",
    "            if epoch % self.save_period == 0:\n",
    "                torch.save(model.state_dict(), './run/model')\n",
    "            \n",
    "            loss_record.append(loss)\n",
    "            acc_record.append(acc)\n",
    "            \n",
    "        # tensorboard\n",
    "        print(f'Epoch {epoch}: Train loss: {sum(loss_record)/len(loss_record)}, Accuracy: {sum(acc_record)/len(acc_record)}')\n",
    "        self.writer.add_scalar('Loss/Train loss', sum(loss_record)/len(loss_record), epoch)\n",
    "        self.writer.add_scalar('Accuracy/Train acc', sum(acc_record)/len(acc_record), epoch)\n",
    "    \n",
    "    def __valid_epoch(self, epoch):\n",
    "        loss_record = []\n",
    "        acc_record = []\n",
    "        \n",
    "        self.model.eval()\n",
    "        with torch.no_grad():\n",
    "            for batch_idx, data in enumerate(self.valid_data_loader):\n",
    "                feature = data['feature'].to(self.device)\n",
    "                label = data['label'].to(self.device)\n",
    "\n",
    "                output = self.model(feature)\n",
    "                loss = self.criterion(output, label)\n",
    "                acc = self.metric(output, label)\n",
    "\n",
    "                loss_record.append(loss)\n",
    "                acc_record.append(acc)\n",
    "                \n",
    "            # tensorboard\n",
    "            print(f'Epoch {epoch}: Valid loss: {sum(loss_record)/len(loss_record)}, Accuracy: {sum(acc_record)/len(acc_record)}')\n",
    "            self.writer.add_scalar('Loss/Valid loss', sum(loss_record)/len(loss_record), epoch)\n",
    "            self.writer.add_scalar('Accuracy/Valid acc', sum(acc_record)/len(acc_record), epoch)"
   ]
  },
  {
   "cell_type": "markdown",
   "id": "bddeadc0",
   "metadata": {},
   "source": [
    "# TensorBoard"
   ]
  },
  {
   "cell_type": "code",
   "execution_count": 17,
   "id": "485a2cd7",
   "metadata": {
    "scrolled": false
   },
   "outputs": [
    {
     "data": {
      "text/html": [
       "\n",
       "      <iframe id=\"tensorboard-frame-6c07fb906af7529a\" width=\"100%\" height=\"800\" frameborder=\"0\">\n",
       "      </iframe>\n",
       "      <script>\n",
       "        (function() {\n",
       "          const frame = document.getElementById(\"tensorboard-frame-6c07fb906af7529a\");\n",
       "          const url = new URL(\"/\", window.location);\n",
       "          const port = 6007;\n",
       "          if (port) {\n",
       "            url.port = port;\n",
       "          }\n",
       "          frame.src = url;\n",
       "        })();\n",
       "      </script>\n",
       "    "
      ],
      "text/plain": [
       "<IPython.core.display.HTML object>"
      ]
     },
     "metadata": {},
     "output_type": "display_data"
    }
   ],
   "source": [
    "%reload_ext tensorboard\n",
    "%tensorboard --logdir=./run/log --port 6007"
   ]
  },
  {
   "cell_type": "markdown",
   "id": "cf7666f6",
   "metadata": {},
   "source": [
    "# Train"
   ]
  },
  {
   "cell_type": "code",
   "execution_count": null,
   "id": "9e8feadd",
   "metadata": {
    "scrolled": true
   },
   "outputs": [
    {
     "name": "stderr",
     "output_type": "stream",
     "text": [
      "\r",
      "  0%|                                                                                                              | 0/5000 [00:00<?, ?it/s]"
     ]
    },
    {
     "name": "stdout",
     "output_type": "stream",
     "text": [
      "Epoch 0: Train loss: 0.3557281196117401, Accuracy: 0.36956796050071716\n"
     ]
    },
    {
     "name": "stderr",
     "output_type": "stream",
     "text": [
      "\r",
      "  0%|                                                                                                    | 1/5000 [00:01<1:51:10,  1.33s/it]"
     ]
    },
    {
     "name": "stdout",
     "output_type": "stream",
     "text": [
      "Epoch 0: Valid loss: 0.2963368892669678, Accuracy: 0.31894129514694214\n",
      "Epoch 1: Train loss: 0.3515527546405792, Accuracy: 0.36547642946243286\n"
     ]
    },
    {
     "name": "stderr",
     "output_type": "stream",
     "text": [
      "\r",
      "  0%|                                                                                                    | 2/5000 [00:02<1:29:08,  1.07s/it]"
     ]
    },
    {
     "name": "stdout",
     "output_type": "stream",
     "text": [
      "Epoch 1: Valid loss: 0.34984254837036133, Accuracy: 0.3712250292301178\n",
      "Epoch 2: Train loss: 0.36002838611602783, Accuracy: 0.37315571308135986\n"
     ]
    },
    {
     "name": "stderr",
     "output_type": "stream",
     "text": [
      "\r",
      "  0%|                                                                                                    | 3/5000 [00:03<1:24:54,  1.02s/it]"
     ]
    },
    {
     "name": "stdout",
     "output_type": "stream",
     "text": [
      "Epoch 2: Valid loss: 0.3372729420661926, Accuracy: 0.35531383752822876\n",
      "Epoch 3: Train loss: 0.3508591651916504, Accuracy: 0.36484602093696594\n"
     ]
    },
    {
     "name": "stderr",
     "output_type": "stream",
     "text": [
      "\r",
      "  0%|                                                                                                    | 4/5000 [00:04<1:22:39,  1.01it/s]"
     ]
    },
    {
     "name": "stdout",
     "output_type": "stream",
     "text": [
      "Epoch 3: Valid loss: 0.3580433428287506, Accuracy: 0.3805050849914551\n",
      "Epoch 4: Train loss: 0.34931063652038574, Accuracy: 0.36371660232543945\n"
     ]
    },
    {
     "name": "stderr",
     "output_type": "stream",
     "text": [
      "\r",
      "  0%|                                                                                                    | 5/5000 [00:05<1:20:38,  1.03it/s]"
     ]
    },
    {
     "name": "stdout",
     "output_type": "stream",
     "text": [
      "Epoch 4: Valid loss: 0.30927377939224243, Accuracy: 0.33107152581214905\n",
      "Epoch 5: Train loss: 0.3515501916408539, Accuracy: 0.3665412962436676\n"
     ]
    },
    {
     "name": "stderr",
     "output_type": "stream",
     "text": [
      "\r",
      "  0%|                                                                                                    | 6/5000 [00:06<1:20:13,  1.04it/s]"
     ]
    },
    {
     "name": "stdout",
     "output_type": "stream",
     "text": [
      "Epoch 5: Valid loss: 0.3556578457355499, Accuracy: 0.3796882629394531\n",
      "Epoch 6: Train loss: 0.352266788482666, Accuracy: 0.3671438992023468\n"
     ]
    },
    {
     "name": "stderr",
     "output_type": "stream",
     "text": [
      "\r",
      "  0%|▏                                                                                                   | 7/5000 [00:06<1:19:19,  1.05it/s]"
     ]
    },
    {
     "name": "stdout",
     "output_type": "stream",
     "text": [
      "Epoch 6: Valid loss: 0.34400856494903564, Accuracy: 0.367500901222229\n",
      "Epoch 7: Train loss: 0.3526482582092285, Accuracy: 0.36761611700057983\n"
     ]
    },
    {
     "name": "stderr",
     "output_type": "stream",
     "text": [
      "\r",
      "  0%|▏                                                                                                   | 8/5000 [00:07<1:19:34,  1.05it/s]"
     ]
    },
    {
     "name": "stdout",
     "output_type": "stream",
     "text": [
      "Epoch 7: Valid loss: 0.3796481490135193, Accuracy: 0.40406277775764465\n",
      "Epoch 8: Train loss: 0.3546155095100403, Accuracy: 0.36956357955932617\n"
     ]
    },
    {
     "name": "stderr",
     "output_type": "stream",
     "text": [
      "\r",
      "  0%|▏                                                                                                   | 9/5000 [00:08<1:21:23,  1.02it/s]"
     ]
    },
    {
     "name": "stdout",
     "output_type": "stream",
     "text": [
      "Epoch 8: Valid loss: 0.33442556858062744, Accuracy: 0.355312705039978\n",
      "Epoch 9: Train loss: 0.35117107629776, Accuracy: 0.3661617636680603\n"
     ]
    },
    {
     "name": "stderr",
     "output_type": "stream",
     "text": [
      "\r",
      "  0%|▏                                                                                                  | 10/5000 [00:09<1:21:52,  1.02it/s]"
     ]
    },
    {
     "name": "stdout",
     "output_type": "stream",
     "text": [
      "Epoch 9: Valid loss: 0.3682973384857178, Accuracy: 0.39187535643577576\n",
      "Epoch 10: Train loss: 0.35566404461860657, Accuracy: 0.37067943811416626\n"
     ]
    },
    {
     "name": "stderr",
     "output_type": "stream",
     "text": [
      "\r",
      "  0%|▏                                                                                                  | 11/5000 [00:10<1:22:16,  1.01it/s]"
     ]
    },
    {
     "name": "stdout",
     "output_type": "stream",
     "text": [
      "Epoch 10: Valid loss: 0.3439091444015503, Accuracy: 0.36750030517578125\n",
      "Epoch 11: Train loss: 0.3507998585700989, Accuracy: 0.3654170632362366\n"
     ]
    },
    {
     "name": "stderr",
     "output_type": "stream",
     "text": [
      "\r",
      "  0%|▏                                                                                                  | 12/5000 [00:11<1:21:38,  1.02it/s]"
     ]
    },
    {
     "name": "stdout",
     "output_type": "stream",
     "text": [
      "Epoch 11: Valid loss: 0.3197791874408722, Accuracy: 0.3431256413459778\n",
      "Epoch 12: Train loss: 0.35253363847732544, Accuracy: 0.3675433099269867\n"
     ]
    },
    {
     "name": "stderr",
     "output_type": "stream",
     "text": [
      "\r",
      "  0%|▎                                                                                                  | 13/5000 [00:12<1:21:14,  1.02it/s]"
     ]
    },
    {
     "name": "stdout",
     "output_type": "stream",
     "text": [
      "Epoch 12: Valid loss: 0.3679278790950775, Accuracy: 0.39187532663345337\n",
      "Epoch 13: Train loss: 0.3485177755355835, Accuracy: 0.36328765749931335\n"
     ]
    },
    {
     "name": "stderr",
     "output_type": "stream",
     "text": [
      "\r",
      "  0%|▎                                                                                                  | 14/5000 [00:13<1:20:54,  1.03it/s]"
     ]
    },
    {
     "name": "stdout",
     "output_type": "stream",
     "text": [
      "Epoch 13: Valid loss: 0.3206656873226166, Accuracy: 0.34312599897384644\n",
      "Epoch 14: Train loss: 0.35486897826194763, Accuracy: 0.36996784806251526\n"
     ]
    },
    {
     "name": "stderr",
     "output_type": "stream",
     "text": [
      "\r",
      "  0%|▎                                                                                                  | 15/5000 [00:14<1:20:36,  1.03it/s]"
     ]
    },
    {
     "name": "stdout",
     "output_type": "stream",
     "text": [
      "Epoch 14: Valid loss: 0.36373406648635864, Accuracy: 0.3796878457069397\n",
      "Epoch 15: Train loss: 0.34948423504829407, Accuracy: 0.36433663964271545\n"
     ]
    },
    {
     "name": "stderr",
     "output_type": "stream",
     "text": [
      "\r",
      "  0%|▎                                                                                                  | 16/5000 [00:15<1:19:06,  1.05it/s]"
     ]
    },
    {
     "name": "stdout",
     "output_type": "stream",
     "text": [
      "Epoch 15: Valid loss: 0.3356279134750366, Accuracy: 0.35531312227249146\n",
      "Epoch 16: Train loss: 0.35252121090888977, Accuracy: 0.36747100949287415\n"
     ]
    },
    {
     "name": "stderr",
     "output_type": "stream",
     "text": [
      "\r",
      "  0%|▎                                                                                                  | 17/5000 [00:16<1:19:00,  1.05it/s]"
     ]
    },
    {
     "name": "stdout",
     "output_type": "stream",
     "text": [
      "Epoch 16: Valid loss: 0.33183616399765015, Accuracy: 0.35531294345855713\n",
      "Epoch 17: Train loss: 0.3469281792640686, Accuracy: 0.3613245487213135\n"
     ]
    },
    {
     "name": "stderr",
     "output_type": "stream",
     "text": [
      "\r",
      "  0%|▎                                                                                                  | 18/5000 [00:17<1:20:18,  1.03it/s]"
     ]
    },
    {
     "name": "stdout",
     "output_type": "stream",
     "text": [
      "Epoch 17: Valid loss: 0.3806651830673218, Accuracy: 0.4040629267692566\n",
      "Epoch 18: Train loss: 0.35482001304626465, Accuracy: 0.36946117877960205\n"
     ]
    },
    {
     "name": "stderr",
     "output_type": "stream",
     "text": [
      "\r",
      "  0%|▍                                                                                                  | 19/5000 [00:18<1:19:16,  1.05it/s]"
     ]
    },
    {
     "name": "stdout",
     "output_type": "stream",
     "text": [
      "Epoch 18: Valid loss: 0.38063204288482666, Accuracy: 0.4040628671646118\n",
      "Epoch 19: Train loss: 0.3556472063064575, Accuracy: 0.3705669045448303\n"
     ]
    },
    {
     "name": "stderr",
     "output_type": "stream",
     "text": [
      "\r",
      "  0%|▍                                                                                                  | 20/5000 [00:19<1:19:02,  1.05it/s]"
     ]
    },
    {
     "name": "stdout",
     "output_type": "stream",
     "text": [
      "Epoch 19: Valid loss: 0.3556211590766907, Accuracy: 0.3796877861022949\n",
      "Epoch 20: Train loss: 0.35595718026161194, Accuracy: 0.3709557056427002\n"
     ]
    },
    {
     "name": "stderr",
     "output_type": "stream",
     "text": [
      "\r",
      "  0%|▍                                                                                                  | 21/5000 [00:20<1:18:58,  1.05it/s]"
     ]
    },
    {
     "name": "stdout",
     "output_type": "stream",
     "text": [
      "Epoch 20: Valid loss: 0.38050347566604614, Accuracy: 0.40406274795532227\n",
      "Epoch 21: Train loss: 0.3569220304489136, Accuracy: 0.3715965747833252\n"
     ]
    },
    {
     "name": "stderr",
     "output_type": "stream",
     "text": [
      "\r",
      "  0%|▍                                                                                                  | 22/5000 [00:21<1:18:12,  1.06it/s]"
     ]
    },
    {
     "name": "stdout",
     "output_type": "stream",
     "text": [
      "Epoch 21: Valid loss: 0.35636597871780396, Accuracy: 0.3796880841255188\n",
      "Epoch 22: Train loss: 0.3495745360851288, Accuracy: 0.36437171697616577\n"
     ]
    },
    {
     "name": "stderr",
     "output_type": "stream",
     "text": [
      "\r",
      "  0%|▍                                                                                                  | 23/5000 [00:22<1:17:28,  1.07it/s]"
     ]
    },
    {
     "name": "stdout",
     "output_type": "stream",
     "text": [
      "Epoch 22: Valid loss: 0.38012778759002686, Accuracy: 0.404062956571579\n",
      "Epoch 23: Train loss: 0.35043883323669434, Accuracy: 0.36543238162994385\n"
     ]
    },
    {
     "name": "stderr",
     "output_type": "stream",
     "text": [
      "\r",
      "  0%|▍                                                                                                  | 24/5000 [00:23<1:16:56,  1.08it/s]"
     ]
    },
    {
     "name": "stdout",
     "output_type": "stream",
     "text": [
      "Epoch 23: Valid loss: 0.39202332496643066, Accuracy: 0.41625019907951355\n",
      "Epoch 24: Train loss: 0.34845924377441406, Accuracy: 0.36335325241088867\n"
     ]
    },
    {
     "name": "stderr",
     "output_type": "stream",
     "text": [
      "\r",
      "  0%|▍                                                                                                  | 25/5000 [00:24<1:18:24,  1.06it/s]"
     ]
    },
    {
     "name": "stdout",
     "output_type": "stream",
     "text": [
      "Epoch 24: Valid loss: 0.3801758885383606, Accuracy: 0.40406274795532227\n",
      "Epoch 25: Train loss: 0.3634004294872284, Accuracy: 0.37832891941070557\n"
     ]
    },
    {
     "name": "stderr",
     "output_type": "stream",
     "text": [
      "\r",
      "  1%|▌                                                                                                  | 26/5000 [00:25<1:18:54,  1.05it/s]"
     ]
    },
    {
     "name": "stdout",
     "output_type": "stream",
     "text": [
      "Epoch 25: Valid loss: 0.3824681043624878, Accuracy: 0.40406280755996704\n",
      "Epoch 26: Train loss: 0.34935787320137024, Accuracy: 0.36426788568496704\n"
     ]
    },
    {
     "name": "stderr",
     "output_type": "stream",
     "text": [
      "\r",
      "  1%|▌                                                                                                  | 27/5000 [00:26<1:19:01,  1.05it/s]"
     ]
    },
    {
     "name": "stdout",
     "output_type": "stream",
     "text": [
      "Epoch 26: Valid loss: 0.3597639203071594, Accuracy: 0.37968844175338745\n",
      "Epoch 27: Train loss: 0.3538549244403839, Accuracy: 0.36882829666137695\n"
     ]
    },
    {
     "name": "stderr",
     "output_type": "stream",
     "text": [
      "\r",
      "  1%|▌                                                                                                  | 28/5000 [00:27<1:19:08,  1.05it/s]"
     ]
    },
    {
     "name": "stdout",
     "output_type": "stream",
     "text": [
      "Epoch 27: Valid loss: 0.4045640230178833, Accuracy: 0.42843782901763916\n",
      "Epoch 28: Train loss: 0.3535424768924713, Accuracy: 0.3685247600078583\n"
     ]
    },
    {
     "name": "stderr",
     "output_type": "stream",
     "text": [
      "\r",
      "  1%|▌                                                                                                  | 29/5000 [00:28<1:18:15,  1.06it/s]"
     ]
    },
    {
     "name": "stdout",
     "output_type": "stream",
     "text": [
      "Epoch 28: Valid loss: 0.35579174757003784, Accuracy: 0.37968772649765015\n",
      "Epoch 29: Train loss: 0.3559010624885559, Accuracy: 0.37076735496520996\n"
     ]
    },
    {
     "name": "stderr",
     "output_type": "stream",
     "text": [
      "\r",
      "  1%|▌                                                                                                  | 30/5000 [00:28<1:18:34,  1.05it/s]"
     ]
    },
    {
     "name": "stdout",
     "output_type": "stream",
     "text": [
      "Epoch 29: Valid loss: 0.31020867824554443, Accuracy: 0.3309384286403656\n",
      "Epoch 30: Train loss: 0.3514046370983124, Accuracy: 0.3661446273326874\n"
     ]
    },
    {
     "name": "stderr",
     "output_type": "stream",
     "text": [
      "\r",
      "  1%|▌                                                                                                  | 31/5000 [00:29<1:20:19,  1.03it/s]"
     ]
    },
    {
     "name": "stdout",
     "output_type": "stream",
     "text": [
      "Epoch 30: Valid loss: 0.35576552152633667, Accuracy: 0.379688024520874\n",
      "Epoch 31: Train loss: 0.3506617546081543, Accuracy: 0.36549922823905945\n"
     ]
    },
    {
     "name": "stderr",
     "output_type": "stream",
     "text": [
      "\r",
      "  1%|▋                                                                                                  | 32/5000 [00:30<1:21:05,  1.02it/s]"
     ]
    },
    {
     "name": "stdout",
     "output_type": "stream",
     "text": [
      "Epoch 31: Valid loss: 0.3207009434700012, Accuracy: 0.34312522411346436\n",
      "Epoch 32: Train loss: 0.3505847156047821, Accuracy: 0.3653821051120758\n"
     ]
    },
    {
     "name": "stderr",
     "output_type": "stream",
     "text": [
      "\r",
      "  1%|▋                                                                                                  | 33/5000 [00:31<1:20:42,  1.03it/s]"
     ]
    },
    {
     "name": "stdout",
     "output_type": "stream",
     "text": [
      "Epoch 32: Valid loss: 0.3457179665565491, Accuracy: 0.3675004243850708\n",
      "Epoch 33: Train loss: 0.35483354330062866, Accuracy: 0.3697315454483032\n"
     ]
    },
    {
     "name": "stderr",
     "output_type": "stream",
     "text": [
      "\r",
      "  1%|▋                                                                                                  | 34/5000 [00:32<1:20:30,  1.03it/s]"
     ]
    },
    {
     "name": "stdout",
     "output_type": "stream",
     "text": [
      "Epoch 33: Valid loss: 0.36802780628204346, Accuracy: 0.39187532663345337\n",
      "Epoch 34: Train loss: 0.3526073396205902, Accuracy: 0.36743032932281494\n"
     ]
    },
    {
     "name": "stderr",
     "output_type": "stream",
     "text": [
      "\r",
      "  1%|▋                                                                                                  | 35/5000 [00:33<1:19:35,  1.04it/s]"
     ]
    },
    {
     "name": "stdout",
     "output_type": "stream",
     "text": [
      "Epoch 34: Valid loss: 0.34598058462142944, Accuracy: 0.36750027537345886\n",
      "Epoch 35: Train loss: 0.35254812240600586, Accuracy: 0.36738502979278564\n"
     ]
    },
    {
     "name": "stderr",
     "output_type": "stream",
     "text": [
      "\r",
      "  1%|▋                                                                                                  | 36/5000 [00:34<1:20:14,  1.03it/s]"
     ]
    },
    {
     "name": "stdout",
     "output_type": "stream",
     "text": [
      "Epoch 35: Valid loss: 0.367961049079895, Accuracy: 0.39187538623809814\n",
      "Epoch 36: Train loss: 0.3550068140029907, Accuracy: 0.3698219358921051\n"
     ]
    },
    {
     "name": "stderr",
     "output_type": "stream",
     "text": [
      "\r",
      "  1%|▋                                                                                                  | 37/5000 [00:35<1:18:03,  1.06it/s]"
     ]
    },
    {
     "name": "stdout",
     "output_type": "stream",
     "text": [
      "Epoch 36: Valid loss: 0.3567497730255127, Accuracy: 0.3796878755092621\n",
      "Epoch 37: Train loss: 0.35451236367225647, Accuracy: 0.36939293146133423\n"
     ]
    },
    {
     "name": "stderr",
     "output_type": "stream",
     "text": [
      "\r",
      "  1%|▊                                                                                                  | 38/5000 [00:36<1:17:05,  1.07it/s]"
     ]
    },
    {
     "name": "stdout",
     "output_type": "stream",
     "text": [
      "Epoch 37: Valid loss: 0.36793839931488037, Accuracy: 0.3918754458427429\n",
      "Epoch 38: Train loss: 0.35047176480293274, Accuracy: 0.3652459681034088\n"
     ]
    },
    {
     "name": "stderr",
     "output_type": "stream",
     "text": [
      "\r",
      "  1%|▊                                                                                                  | 39/5000 [00:37<1:17:22,  1.07it/s]"
     ]
    },
    {
     "name": "stdout",
     "output_type": "stream",
     "text": [
      "Epoch 38: Valid loss: 0.33147576451301575, Accuracy: 0.3553128242492676\n",
      "Epoch 39: Train loss: 0.35380515456199646, Accuracy: 0.3687036633491516\n"
     ]
    },
    {
     "name": "stderr",
     "output_type": "stream",
     "text": [
      "\r",
      "  1%|▊                                                                                                  | 40/5000 [00:38<1:17:23,  1.07it/s]"
     ]
    },
    {
     "name": "stdout",
     "output_type": "stream",
     "text": [
      "Epoch 39: Valid loss: 0.311028391122818, Accuracy: 0.33093875646591187\n",
      "Epoch 40: Train loss: 0.35316139459609985, Accuracy: 0.3679918646812439\n"
     ]
    },
    {
     "name": "stderr",
     "output_type": "stream",
     "text": [
      "\r",
      "  1%|▊                                                                                                  | 41/5000 [00:39<1:17:23,  1.07it/s]"
     ]
    },
    {
     "name": "stdout",
     "output_type": "stream",
     "text": [
      "Epoch 40: Valid loss: 0.33251410722732544, Accuracy: 0.35531315207481384\n",
      "Epoch 41: Train loss: 0.3538484275341034, Accuracy: 0.3687556982040405\n"
     ]
    },
    {
     "name": "stderr",
     "output_type": "stream",
     "text": [
      "\r",
      "  1%|▊                                                                                                  | 42/5000 [00:40<1:19:06,  1.04it/s]"
     ]
    },
    {
     "name": "stdout",
     "output_type": "stream",
     "text": [
      "Epoch 41: Valid loss: 0.3195767104625702, Accuracy: 0.343125581741333\n",
      "Epoch 42: Train loss: 0.3568118214607239, Accuracy: 0.37177935242652893\n"
     ]
    },
    {
     "name": "stderr",
     "output_type": "stream",
     "text": [
      "\r",
      "  1%|▊                                                                                                  | 43/5000 [00:41<1:19:46,  1.04it/s]"
     ]
    },
    {
     "name": "stdout",
     "output_type": "stream",
     "text": [
      "Epoch 42: Valid loss: 0.3320237994194031, Accuracy: 0.35531291365623474\n",
      "Epoch 43: Train loss: 0.35184404253959656, Accuracy: 0.36666104197502136\n"
     ]
    },
    {
     "name": "stderr",
     "output_type": "stream",
     "text": [
      "\r",
      "  1%|▊                                                                                                  | 44/5000 [00:42<1:21:01,  1.02it/s]"
     ]
    },
    {
     "name": "stdout",
     "output_type": "stream",
     "text": [
      "Epoch 43: Valid loss: 0.33261311054229736, Accuracy: 0.3553130030632019\n",
      "Epoch 44: Train loss: 0.3537362813949585, Accuracy: 0.3685729205608368\n"
     ]
    },
    {
     "name": "stderr",
     "output_type": "stream",
     "text": [
      "\r",
      "  1%|▉                                                                                                  | 45/5000 [00:43<1:21:15,  1.02it/s]"
     ]
    },
    {
     "name": "stdout",
     "output_type": "stream",
     "text": [
      "Epoch 44: Valid loss: 0.3313294053077698, Accuracy: 0.35531294345855713\n",
      "Epoch 45: Train loss: 0.3579201102256775, Accuracy: 0.3728870153427124\n"
     ]
    },
    {
     "name": "stderr",
     "output_type": "stream",
     "text": [
      "\r",
      "  1%|▉                                                                                                  | 46/5000 [00:44<1:22:00,  1.01it/s]"
     ]
    },
    {
     "name": "stdout",
     "output_type": "stream",
     "text": [
      "Epoch 45: Valid loss: 0.33167266845703125, Accuracy: 0.35531291365623474\n",
      "Epoch 46: Train loss: 0.35374173521995544, Accuracy: 0.3684515655040741\n"
     ]
    },
    {
     "name": "stderr",
     "output_type": "stream",
     "text": [
      "\r",
      "  1%|▉                                                                                                  | 47/5000 [00:45<1:20:58,  1.02it/s]"
     ]
    },
    {
     "name": "stdout",
     "output_type": "stream",
     "text": [
      "Epoch 46: Valid loss: 0.3440093398094177, Accuracy: 0.36750030517578125\n",
      "Epoch 47: Train loss: 0.34754282236099243, Accuracy: 0.36228418350219727\n"
     ]
    },
    {
     "name": "stderr",
     "output_type": "stream",
     "text": [
      "\r",
      "  1%|▉                                                                                                  | 48/5000 [00:46<1:20:18,  1.03it/s]"
     ]
    },
    {
     "name": "stdout",
     "output_type": "stream",
     "text": [
      "Epoch 47: Valid loss: 0.36860257387161255, Accuracy: 0.39187556505203247\n",
      "Epoch 48: Train loss: 0.3476449251174927, Accuracy: 0.36236268281936646\n"
     ]
    },
    {
     "name": "stderr",
     "output_type": "stream",
     "text": [
      "\r",
      "  1%|▉                                                                                                  | 49/5000 [00:47<1:18:26,  1.05it/s]"
     ]
    },
    {
     "name": "stdout",
     "output_type": "stream",
     "text": [
      "Epoch 48: Valid loss: 0.3212810754776001, Accuracy: 0.34312528371810913\n",
      "Epoch 49: Train loss: 0.3497868478298187, Accuracy: 0.3645455539226532\n"
     ]
    },
    {
     "name": "stderr",
     "output_type": "stream",
     "text": [
      "\r",
      "  1%|▉                                                                                                  | 50/5000 [00:48<1:17:27,  1.07it/s]"
     ]
    },
    {
     "name": "stdout",
     "output_type": "stream",
     "text": [
      "Epoch 49: Valid loss: 0.30910128355026245, Accuracy: 0.3309383988380432\n",
      "Epoch 50: Train loss: 0.3537726104259491, Accuracy: 0.3687470257282257\n"
     ]
    },
    {
     "name": "stderr",
     "output_type": "stream",
     "text": [
      "\r",
      "  1%|█                                                                                                  | 51/5000 [00:49<1:17:17,  1.07it/s]"
     ]
    },
    {
     "name": "stdout",
     "output_type": "stream",
     "text": [
      "Epoch 50: Valid loss: 0.3800050914287567, Accuracy: 0.4040626883506775\n",
      "Epoch 51: Train loss: 0.3505503833293915, Accuracy: 0.3653741776943207\n"
     ]
    },
    {
     "name": "stderr",
     "output_type": "stream",
     "text": [
      "\r",
      "  1%|█                                                                                                  | 52/5000 [00:50<1:18:04,  1.06it/s]"
     ]
    },
    {
     "name": "stdout",
     "output_type": "stream",
     "text": [
      "Epoch 51: Valid loss: 0.34544336795806885, Accuracy: 0.3675006031990051\n",
      "Epoch 52: Train loss: 0.3484642803668976, Accuracy: 0.36317282915115356\n"
     ]
    },
    {
     "name": "stderr",
     "output_type": "stream",
     "text": [
      "\r",
      "  1%|█                                                                                                  | 53/5000 [00:51<1:17:19,  1.07it/s]"
     ]
    },
    {
     "name": "stdout",
     "output_type": "stream",
     "text": [
      "Epoch 52: Valid loss: 0.3572574853897095, Accuracy: 0.3796886205673218\n",
      "Epoch 53: Train loss: 0.3633476197719574, Accuracy: 0.37801915407180786\n"
     ]
    },
    {
     "name": "stderr",
     "output_type": "stream",
     "text": [
      "\r",
      "  1%|█                                                                                                  | 54/5000 [00:51<1:17:15,  1.07it/s]"
     ]
    },
    {
     "name": "stdout",
     "output_type": "stream",
     "text": [
      "Epoch 53: Valid loss: 0.33269914984703064, Accuracy: 0.3553129732608795\n",
      "Epoch 54: Train loss: 0.34957557916641235, Accuracy: 0.36438891291618347\n"
     ]
    },
    {
     "name": "stderr",
     "output_type": "stream",
     "text": [
      "\r",
      "  1%|█                                                                                                  | 55/5000 [00:52<1:16:20,  1.08it/s]"
     ]
    },
    {
     "name": "stdout",
     "output_type": "stream",
     "text": [
      "Epoch 54: Valid loss: 0.3440186679363251, Accuracy: 0.3675011992454529\n",
      "Epoch 55: Train loss: 0.35279715061187744, Accuracy: 0.36767664551734924\n"
     ]
    },
    {
     "name": "stderr",
     "output_type": "stream",
     "text": [
      "\r",
      "  1%|█                                                                                                  | 56/5000 [00:53<1:15:54,  1.09it/s]"
     ]
    },
    {
     "name": "stdout",
     "output_type": "stream",
     "text": [
      "Epoch 55: Valid loss: 0.312224417924881, Accuracy: 0.330937922000885\n",
      "Epoch 56: Train loss: 0.3521837890148163, Accuracy: 0.3669123649597168\n"
     ]
    },
    {
     "name": "stderr",
     "output_type": "stream",
     "text": [
      "\r",
      "  1%|█▏                                                                                                 | 57/5000 [00:54<1:16:47,  1.07it/s]"
     ]
    },
    {
     "name": "stdout",
     "output_type": "stream",
     "text": [
      "Epoch 56: Valid loss: 0.3213390111923218, Accuracy: 0.34312576055526733\n",
      "Epoch 57: Train loss: 0.3580668568611145, Accuracy: 0.372872918844223\n"
     ]
    },
    {
     "name": "stderr",
     "output_type": "stream",
     "text": [
      "\r",
      "  1%|█▏                                                                                                 | 58/5000 [00:55<1:16:56,  1.07it/s]"
     ]
    },
    {
     "name": "stdout",
     "output_type": "stream",
     "text": [
      "Epoch 57: Valid loss: 0.39181435108184814, Accuracy: 0.41625019907951355\n",
      "Epoch 58: Train loss: 0.35568949580192566, Accuracy: 0.37059637904167175\n"
     ]
    },
    {
     "name": "stderr",
     "output_type": "stream",
     "text": [
      "\r",
      "  1%|█▏                                                                                                 | 59/5000 [00:56<1:18:07,  1.05it/s]"
     ]
    },
    {
     "name": "stdout",
     "output_type": "stream",
     "text": [
      "Epoch 58: Valid loss: 0.3103855848312378, Accuracy: 0.33093807101249695\n",
      "Epoch 59: Train loss: 0.3530800938606262, Accuracy: 0.3678602874279022\n"
     ]
    },
    {
     "name": "stderr",
     "output_type": "stream",
     "text": [
      "\r",
      "  1%|█▏                                                                                                 | 60/5000 [00:57<1:18:45,  1.05it/s]"
     ]
    },
    {
     "name": "stdout",
     "output_type": "stream",
     "text": [
      "Epoch 59: Valid loss: 0.3445754647254944, Accuracy: 0.36750030517578125\n",
      "Epoch 60: Train loss: 0.3472065031528473, Accuracy: 0.3621176481246948\n"
     ]
    },
    {
     "name": "stderr",
     "output_type": "stream",
     "text": [
      "\r",
      "  1%|█▏                                                                                                 | 61/5000 [00:58<1:17:53,  1.06it/s]"
     ]
    },
    {
     "name": "stdout",
     "output_type": "stream",
     "text": [
      "Epoch 60: Valid loss: 0.30266809463500977, Accuracy: 0.3187538981437683\n",
      "Epoch 61: Train loss: 0.35560256242752075, Accuracy: 0.3705494701862335\n"
     ]
    },
    {
     "name": "stderr",
     "output_type": "stream",
     "text": [
      "\r",
      "  1%|█▏                                                                                                 | 62/5000 [00:59<1:19:03,  1.04it/s]"
     ]
    },
    {
     "name": "stdout",
     "output_type": "stream",
     "text": [
      "Epoch 61: Valid loss: 0.33187419176101685, Accuracy: 0.355312705039978\n",
      "Epoch 62: Train loss: 0.355008602142334, Accuracy: 0.369855135679245\n"
     ]
    },
    {
     "name": "stderr",
     "output_type": "stream",
     "text": [
      "\r",
      "  1%|█▏                                                                                                 | 63/5000 [01:00<1:17:50,  1.06it/s]"
     ]
    },
    {
     "name": "stdout",
     "output_type": "stream",
     "text": [
      "Epoch 62: Valid loss: 0.33245405554771423, Accuracy: 0.35531261563301086\n",
      "Epoch 63: Train loss: 0.35373130440711975, Accuracy: 0.3685736060142517\n"
     ]
    },
    {
     "name": "stderr",
     "output_type": "stream",
     "text": [
      "\r",
      "  1%|█▎                                                                                                 | 64/5000 [01:01<1:16:58,  1.07it/s]"
     ]
    },
    {
     "name": "stdout",
     "output_type": "stream",
     "text": [
      "Epoch 63: Valid loss: 0.37014269828796387, Accuracy: 0.39187538623809814\n",
      "Epoch 64: Train loss: 0.35252782702445984, Accuracy: 0.36747780442237854\n"
     ]
    },
    {
     "name": "stderr",
     "output_type": "stream",
     "text": [
      "\r",
      "  1%|█▎                                                                                                 | 65/5000 [01:02<1:16:58,  1.07it/s]"
     ]
    },
    {
     "name": "stdout",
     "output_type": "stream",
     "text": [
      "Epoch 64: Valid loss: 0.37995094060897827, Accuracy: 0.40406280755996704\n",
      "Epoch 65: Train loss: 0.3520476520061493, Accuracy: 0.3668886125087738\n"
     ]
    },
    {
     "name": "stderr",
     "output_type": "stream",
     "text": [
      "\r",
      "  1%|█▎                                                                                                 | 66/5000 [01:03<1:16:13,  1.08it/s]"
     ]
    },
    {
     "name": "stdout",
     "output_type": "stream",
     "text": [
      "Epoch 65: Valid loss: 0.3214731216430664, Accuracy: 0.3431259095668793\n",
      "Epoch 66: Train loss: 0.35189515352249146, Accuracy: 0.366915225982666\n"
     ]
    },
    {
     "name": "stderr",
     "output_type": "stream",
     "text": [
      "\r",
      "  1%|█▎                                                                                                 | 67/5000 [01:04<1:15:37,  1.09it/s]"
     ]
    },
    {
     "name": "stdout",
     "output_type": "stream",
     "text": [
      "Epoch 66: Valid loss: 0.3335408568382263, Accuracy: 0.35531285405158997\n",
      "Epoch 67: Train loss: 0.3509592115879059, Accuracy: 0.3658430576324463\n"
     ]
    },
    {
     "name": "stderr",
     "output_type": "stream",
     "text": [
      "\r",
      "  1%|█▎                                                                                                 | 68/5000 [01:05<1:16:39,  1.07it/s]"
     ]
    },
    {
     "name": "stdout",
     "output_type": "stream",
     "text": [
      "Epoch 67: Valid loss: 0.36856621503829956, Accuracy: 0.39187586307525635\n",
      "Epoch 68: Train loss: 0.3594098687171936, Accuracy: 0.37422624230384827\n"
     ]
    },
    {
     "name": "stderr",
     "output_type": "stream",
     "text": [
      "\r",
      "  1%|█▎                                                                                                 | 69/5000 [01:05<1:16:26,  1.08it/s]"
     ]
    },
    {
     "name": "stdout",
     "output_type": "stream",
     "text": [
      "Epoch 68: Valid loss: 0.37992480397224426, Accuracy: 0.4040626883506775\n",
      "Epoch 69: Train loss: 0.3581686019897461, Accuracy: 0.37312212586402893\n"
     ]
    },
    {
     "name": "stderr",
     "output_type": "stream",
     "text": [
      "\r",
      "  1%|█▍                                                                                                 | 70/5000 [01:06<1:16:16,  1.08it/s]"
     ]
    },
    {
     "name": "stdout",
     "output_type": "stream",
     "text": [
      "Epoch 69: Valid loss: 0.33179986476898193, Accuracy: 0.3553127646446228\n",
      "Epoch 70: Train loss: 0.35479736328125, Accuracy: 0.3695875406265259\n"
     ]
    },
    {
     "name": "stderr",
     "output_type": "stream",
     "text": [
      "\r",
      "  1%|█▍                                                                                                 | 71/5000 [01:07<1:16:22,  1.08it/s]"
     ]
    },
    {
     "name": "stdout",
     "output_type": "stream",
     "text": [
      "Epoch 70: Valid loss: 0.34478959441185, Accuracy: 0.3675004839897156\n",
      "Epoch 71: Train loss: 0.3540177047252655, Accuracy: 0.3689368963241577\n"
     ]
    },
    {
     "name": "stderr",
     "output_type": "stream",
     "text": [
      "\r",
      "  1%|█▍                                                                                                 | 72/5000 [01:08<1:15:52,  1.08it/s]"
     ]
    },
    {
     "name": "stdout",
     "output_type": "stream",
     "text": [
      "Epoch 71: Valid loss: 0.32138514518737793, Accuracy: 0.3431253433227539\n",
      "Epoch 72: Train loss: 0.35259559750556946, Accuracy: 0.36756807565689087\n"
     ]
    },
    {
     "name": "stderr",
     "output_type": "stream",
     "text": [
      "\r",
      "  1%|█▍                                                                                                 | 73/5000 [01:09<1:16:08,  1.08it/s]"
     ]
    },
    {
     "name": "stdout",
     "output_type": "stream",
     "text": [
      "Epoch 72: Valid loss: 0.31971731781959534, Accuracy: 0.34312525391578674\n",
      "Epoch 73: Train loss: 0.3520262837409973, Accuracy: 0.3670414686203003\n"
     ]
    },
    {
     "name": "stderr",
     "output_type": "stream",
     "text": [
      "\r",
      "  1%|█▍                                                                                                 | 74/5000 [01:10<1:16:53,  1.07it/s]"
     ]
    },
    {
     "name": "stdout",
     "output_type": "stream",
     "text": [
      "Epoch 73: Valid loss: 0.3691534698009491, Accuracy: 0.391875684261322\n",
      "Epoch 74: Train loss: 0.3549630641937256, Accuracy: 0.3698732554912567\n"
     ]
    },
    {
     "name": "stderr",
     "output_type": "stream",
     "text": [
      "\r",
      "  2%|█▍                                                                                                 | 75/5000 [01:11<1:16:14,  1.08it/s]"
     ]
    },
    {
     "name": "stdout",
     "output_type": "stream",
     "text": [
      "Epoch 74: Valid loss: 0.40550556778907776, Accuracy: 0.428437739610672\n",
      "Epoch 75: Train loss: 0.35029134154319763, Accuracy: 0.365017831325531\n"
     ]
    },
    {
     "name": "stderr",
     "output_type": "stream",
     "text": [
      "\r",
      "  2%|█▌                                                                                                 | 76/5000 [01:12<1:16:32,  1.07it/s]"
     ]
    },
    {
     "name": "stdout",
     "output_type": "stream",
     "text": [
      "Epoch 75: Valid loss: 0.3557493984699249, Accuracy: 0.37968772649765015\n",
      "Epoch 76: Train loss: 0.35289180278778076, Accuracy: 0.3676761984825134\n"
     ]
    },
    {
     "name": "stderr",
     "output_type": "stream",
     "text": [
      "\r",
      "  2%|█▌                                                                                                 | 77/5000 [01:13<1:16:55,  1.07it/s]"
     ]
    },
    {
     "name": "stdout",
     "output_type": "stream",
     "text": [
      "Epoch 76: Valid loss: 0.3444795310497284, Accuracy: 0.367500364780426\n",
      "Epoch 77: Train loss: 0.35368454456329346, Accuracy: 0.368696928024292\n"
     ]
    },
    {
     "name": "stderr",
     "output_type": "stream",
     "text": [
      "\r",
      "  2%|█▌                                                                                                 | 78/5000 [01:14<1:17:55,  1.05it/s]"
     ]
    },
    {
     "name": "stdout",
     "output_type": "stream",
     "text": [
      "Epoch 77: Valid loss: 0.34464436769485474, Accuracy: 0.3675001859664917\n",
      "Epoch 78: Train loss: 0.354704350233078, Accuracy: 0.3696034252643585\n"
     ]
    },
    {
     "name": "stderr",
     "output_type": "stream",
     "text": [
      "\r",
      "  2%|█▌                                                                                                 | 79/5000 [01:15<1:17:56,  1.05it/s]"
     ]
    },
    {
     "name": "stdout",
     "output_type": "stream",
     "text": [
      "Epoch 78: Valid loss: 0.3479163646697998, Accuracy: 0.3675006031990051\n",
      "Epoch 79: Train loss: 0.356899231672287, Accuracy: 0.3718158006668091\n"
     ]
    },
    {
     "name": "stderr",
     "output_type": "stream",
     "text": [
      "\r",
      "  2%|█▌                                                                                                 | 80/5000 [01:16<1:18:19,  1.05it/s]"
     ]
    },
    {
     "name": "stdout",
     "output_type": "stream",
     "text": [
      "Epoch 79: Valid loss: 0.3515496253967285, Accuracy: 0.3675011098384857\n",
      "Epoch 80: Train loss: 0.35475969314575195, Accuracy: 0.3697850704193115\n"
     ]
    },
    {
     "name": "stderr",
     "output_type": "stream",
     "text": [
      "\r",
      "  2%|█▌                                                                                                 | 81/5000 [01:17<1:18:22,  1.05it/s]"
     ]
    },
    {
     "name": "stdout",
     "output_type": "stream",
     "text": [
      "Epoch 80: Valid loss: 0.3318701386451721, Accuracy: 0.3553127646446228\n",
      "Epoch 81: Train loss: 0.35246971249580383, Accuracy: 0.3674026429653168\n"
     ]
    },
    {
     "name": "stderr",
     "output_type": "stream",
     "text": [
      "\r",
      "  2%|█▌                                                                                                 | 82/5000 [01:18<1:17:11,  1.06it/s]"
     ]
    },
    {
     "name": "stdout",
     "output_type": "stream",
     "text": [
      "Epoch 81: Valid loss: 0.3560972809791565, Accuracy: 0.379688024520874\n",
      "Epoch 82: Train loss: 0.35518646240234375, Accuracy: 0.3696722090244293\n"
     ]
    },
    {
     "name": "stderr",
     "output_type": "stream",
     "text": [
      "\r",
      "  2%|█▋                                                                                                 | 83/5000 [01:19<1:16:44,  1.07it/s]"
     ]
    },
    {
     "name": "stdout",
     "output_type": "stream",
     "text": [
      "Epoch 82: Valid loss: 0.31365329027175903, Accuracy: 0.3309379518032074\n",
      "Epoch 83: Train loss: 0.3486992120742798, Accuracy: 0.3636855483055115\n"
     ]
    },
    {
     "name": "stderr",
     "output_type": "stream",
     "text": [
      "\r",
      "  2%|█▋                                                                                                 | 84/5000 [01:20<1:15:43,  1.08it/s]"
     ]
    },
    {
     "name": "stdout",
     "output_type": "stream",
     "text": [
      "Epoch 83: Valid loss: 0.3685380220413208, Accuracy: 0.39187556505203247\n",
      "Epoch 84: Train loss: 0.3491860032081604, Accuracy: 0.36389726400375366\n"
     ]
    },
    {
     "name": "stderr",
     "output_type": "stream",
     "text": [
      "\r",
      "  2%|█▋                                                                                                 | 85/5000 [01:20<1:15:28,  1.09it/s]"
     ]
    },
    {
     "name": "stdout",
     "output_type": "stream",
     "text": [
      "Epoch 84: Valid loss: 0.3572445213794708, Accuracy: 0.37968820333480835\n",
      "Epoch 85: Train loss: 0.35264989733695984, Accuracy: 0.3676512837409973\n"
     ]
    },
    {
     "name": "stderr",
     "output_type": "stream",
     "text": [
      "\r",
      "  2%|█▋                                                                                                 | 86/5000 [01:21<1:16:25,  1.07it/s]"
     ]
    },
    {
     "name": "stdout",
     "output_type": "stream",
     "text": [
      "Epoch 85: Valid loss: 0.3455612361431122, Accuracy: 0.36750084161758423\n",
      "Epoch 86: Train loss: 0.352363258600235, Accuracy: 0.3671610355377197\n"
     ]
    },
    {
     "name": "stderr",
     "output_type": "stream",
     "text": [
      "\r",
      "  2%|█▋                                                                                                 | 87/5000 [01:22<1:16:22,  1.07it/s]"
     ]
    },
    {
     "name": "stdout",
     "output_type": "stream",
     "text": [
      "Epoch 86: Valid loss: 0.32151708006858826, Accuracy: 0.3431254029273987\n",
      "Epoch 87: Train loss: 0.3535444438457489, Accuracy: 0.36842989921569824\n"
     ]
    },
    {
     "name": "stderr",
     "output_type": "stream",
     "text": [
      "\r",
      "  2%|█▋                                                                                                 | 88/5000 [01:23<1:16:09,  1.07it/s]"
     ]
    },
    {
     "name": "stdout",
     "output_type": "stream",
     "text": [
      "Epoch 87: Valid loss: 0.36837828159332275, Accuracy: 0.39187532663345337\n",
      "Epoch 88: Train loss: 0.3546862006187439, Accuracy: 0.3695529103279114\n"
     ]
    },
    {
     "name": "stderr",
     "output_type": "stream",
     "text": [
      "\r",
      "  2%|█▊                                                                                                 | 89/5000 [01:24<1:15:48,  1.08it/s]"
     ]
    },
    {
     "name": "stdout",
     "output_type": "stream",
     "text": [
      "Epoch 88: Valid loss: 0.3435216248035431, Accuracy: 0.3675002455711365\n",
      "Epoch 89: Train loss: 0.3518258035182953, Accuracy: 0.3667294681072235\n"
     ]
    },
    {
     "name": "stderr",
     "output_type": "stream",
     "text": [
      "\r",
      "  2%|█▊                                                                                                 | 90/5000 [01:25<1:16:07,  1.08it/s]"
     ]
    },
    {
     "name": "stdout",
     "output_type": "stream",
     "text": [
      "Epoch 89: Valid loss: 0.33188676834106445, Accuracy: 0.3553132712841034\n",
      "Epoch 90: Train loss: 0.3516191840171814, Accuracy: 0.36646217107772827\n"
     ]
    },
    {
     "name": "stderr",
     "output_type": "stream",
     "text": [
      "\r",
      "  2%|█▊                                                                                                 | 91/5000 [01:26<1:15:28,  1.08it/s]"
     ]
    },
    {
     "name": "stdout",
     "output_type": "stream",
     "text": [
      "Epoch 90: Valid loss: 0.35797181725502014, Accuracy: 0.379688560962677\n",
      "Epoch 91: Train loss: 0.35497257113456726, Accuracy: 0.3699452579021454\n"
     ]
    },
    {
     "name": "stderr",
     "output_type": "stream",
     "text": [
      "\r",
      "  2%|█▊                                                                                                 | 92/5000 [01:27<1:15:25,  1.08it/s]"
     ]
    },
    {
     "name": "stdout",
     "output_type": "stream",
     "text": [
      "Epoch 91: Valid loss: 0.3447752594947815, Accuracy: 0.3675006330013275\n",
      "Epoch 92: Train loss: 0.34848520159721375, Accuracy: 0.3631778955459595\n"
     ]
    },
    {
     "name": "stderr",
     "output_type": "stream",
     "text": [
      "\r",
      "  2%|█▊                                                                                                 | 93/5000 [01:28<1:14:27,  1.10it/s]"
     ]
    },
    {
     "name": "stdout",
     "output_type": "stream",
     "text": [
      "Epoch 92: Valid loss: 0.3339734673500061, Accuracy: 0.35531312227249146\n",
      "Epoch 93: Train loss: 0.35089242458343506, Accuracy: 0.36576592922210693\n"
     ]
    },
    {
     "name": "stderr",
     "output_type": "stream",
     "text": [
      "\r",
      "  2%|█▊                                                                                                 | 94/5000 [01:29<1:14:18,  1.10it/s]"
     ]
    },
    {
     "name": "stdout",
     "output_type": "stream",
     "text": [
      "Epoch 93: Valid loss: 0.3334681987762451, Accuracy: 0.35531318187713623\n",
      "Epoch 94: Train loss: 0.3495559096336365, Accuracy: 0.3641582727432251\n"
     ]
    },
    {
     "name": "stderr",
     "output_type": "stream",
     "text": [
      "\r",
      "  2%|█▉                                                                                                 | 95/5000 [01:30<1:15:02,  1.09it/s]"
     ]
    },
    {
     "name": "stdout",
     "output_type": "stream",
     "text": [
      "Epoch 94: Valid loss: 0.3203851282596588, Accuracy: 0.34312546253204346\n",
      "Epoch 95: Train loss: 0.3464367985725403, Accuracy: 0.36134541034698486\n"
     ]
    },
    {
     "name": "stderr",
     "output_type": "stream",
     "text": [
      "\r",
      "  2%|█▉                                                                                                 | 96/5000 [01:31<1:14:45,  1.09it/s]"
     ]
    },
    {
     "name": "stdout",
     "output_type": "stream",
     "text": [
      "Epoch 95: Valid loss: 0.39234161376953125, Accuracy: 0.4162505865097046\n",
      "Epoch 96: Train loss: 0.34826087951660156, Accuracy: 0.36276188492774963\n"
     ]
    },
    {
     "name": "stderr",
     "output_type": "stream",
     "text": [
      "\r",
      "  2%|█▉                                                                                                 | 97/5000 [01:32<1:15:12,  1.09it/s]"
     ]
    },
    {
     "name": "stdout",
     "output_type": "stream",
     "text": [
      "Epoch 96: Valid loss: 0.3798549175262451, Accuracy: 0.40406304597854614\n",
      "Epoch 97: Train loss: 0.3528255820274353, Accuracy: 0.36783120036125183\n"
     ]
    },
    {
     "name": "stderr",
     "output_type": "stream",
     "text": [
      "\r",
      "  2%|█▉                                                                                                 | 98/5000 [01:32<1:14:50,  1.09it/s]"
     ]
    },
    {
     "name": "stdout",
     "output_type": "stream",
     "text": [
      "Epoch 97: Valid loss: 0.35751569271087646, Accuracy: 0.379688560962677\n",
      "Epoch 98: Train loss: 0.35050323605537415, Accuracy: 0.3652688264846802\n"
     ]
    },
    {
     "name": "stderr",
     "output_type": "stream",
     "text": [
      "\r",
      "  2%|█▉                                                                                                 | 99/5000 [01:33<1:14:47,  1.09it/s]"
     ]
    },
    {
     "name": "stdout",
     "output_type": "stream",
     "text": [
      "Epoch 98: Valid loss: 0.3053109049797058, Accuracy: 0.3278920650482178\n",
      "Epoch 99: Train loss: 0.35254356265068054, Accuracy: 0.3673836290836334\n"
     ]
    },
    {
     "name": "stderr",
     "output_type": "stream",
     "text": [
      "\r",
      "  2%|█▉                                                                                                | 100/5000 [01:34<1:14:09,  1.10it/s]"
     ]
    },
    {
     "name": "stdout",
     "output_type": "stream",
     "text": [
      "Epoch 99: Valid loss: 0.3195357918739319, Accuracy: 0.34312576055526733\n",
      "Epoch 100: Train loss: 0.3578959107398987, Accuracy: 0.3726671040058136\n"
     ]
    },
    {
     "name": "stderr",
     "output_type": "stream",
     "text": [
      "\r",
      "  2%|█▉                                                                                                | 101/5000 [01:35<1:14:13,  1.10it/s]"
     ]
    },
    {
     "name": "stdout",
     "output_type": "stream",
     "text": [
      "Epoch 100: Valid loss: 0.30908310413360596, Accuracy: 0.33093780279159546\n",
      "Epoch 101: Train loss: 0.3551236391067505, Accuracy: 0.37003782391548157\n"
     ]
    },
    {
     "name": "stderr",
     "output_type": "stream",
     "text": [
      "\r",
      "  2%|█▉                                                                                                | 102/5000 [01:36<1:15:05,  1.09it/s]"
     ]
    },
    {
     "name": "stdout",
     "output_type": "stream",
     "text": [
      "Epoch 101: Valid loss: 0.3313971757888794, Accuracy: 0.355313241481781\n",
      "Epoch 102: Train loss: 0.3504221737384796, Accuracy: 0.3653157949447632\n"
     ]
    },
    {
     "name": "stderr",
     "output_type": "stream",
     "text": [
      "\r",
      "  2%|██                                                                                                | 103/5000 [01:37<1:14:45,  1.09it/s]"
     ]
    },
    {
     "name": "stdout",
     "output_type": "stream",
     "text": [
      "Epoch 102: Valid loss: 0.33202850818634033, Accuracy: 0.35531294345855713\n",
      "Epoch 103: Train loss: 0.357482373714447, Accuracy: 0.3722977340221405\n"
     ]
    },
    {
     "name": "stderr",
     "output_type": "stream",
     "text": [
      "\r",
      "  2%|██                                                                                                | 104/5000 [01:38<1:14:18,  1.10it/s]"
     ]
    },
    {
     "name": "stdout",
     "output_type": "stream",
     "text": [
      "Epoch 103: Valid loss: 0.36807048320770264, Accuracy: 0.3918752074241638\n",
      "Epoch 104: Train loss: 0.35158225893974304, Accuracy: 0.36636945605278015\n"
     ]
    },
    {
     "name": "stderr",
     "output_type": "stream",
     "text": [
      "\r",
      "  2%|██                                                                                                | 105/5000 [01:39<1:14:06,  1.10it/s]"
     ]
    },
    {
     "name": "stdout",
     "output_type": "stream",
     "text": [
      "Epoch 104: Valid loss: 0.301469624042511, Accuracy: 0.3187522292137146\n",
      "Epoch 105: Train loss: 0.34992462396621704, Accuracy: 0.364298939704895\n"
     ]
    },
    {
     "name": "stderr",
     "output_type": "stream",
     "text": [
      "\r",
      "  2%|██                                                                                                | 106/5000 [01:40<1:14:48,  1.09it/s]"
     ]
    },
    {
     "name": "stdout",
     "output_type": "stream",
     "text": [
      "Epoch 105: Valid loss: 0.37995898723602295, Accuracy: 0.40406274795532227\n",
      "Epoch 106: Train loss: 0.35232284665107727, Accuracy: 0.36717191338539124\n"
     ]
    },
    {
     "name": "stderr",
     "output_type": "stream",
     "text": [
      "\r",
      "  2%|██                                                                                                | 107/5000 [01:41<1:15:05,  1.09it/s]"
     ]
    },
    {
     "name": "stdout",
     "output_type": "stream",
     "text": [
      "Epoch 106: Valid loss: 0.3441043198108673, Accuracy: 0.3675009608268738\n",
      "Epoch 107: Train loss: 0.35054275393486023, Accuracy: 0.36545950174331665\n"
     ]
    },
    {
     "name": "stderr",
     "output_type": "stream",
     "text": [
      "\r",
      "  2%|██                                                                                                | 108/5000 [01:42<1:15:39,  1.08it/s]"
     ]
    },
    {
     "name": "stdout",
     "output_type": "stream",
     "text": [
      "Epoch 107: Valid loss: 0.30870211124420166, Accuracy: 0.3309379518032074\n",
      "Epoch 108: Train loss: 0.348244309425354, Accuracy: 0.36312589049339294\n"
     ]
    },
    {
     "name": "stderr",
     "output_type": "stream",
     "text": [
      "\r",
      "  2%|██▏                                                                                               | 109/5000 [01:43<1:15:15,  1.08it/s]"
     ]
    },
    {
     "name": "stdout",
     "output_type": "stream",
     "text": [
      "Epoch 108: Valid loss: 0.3676769733428955, Accuracy: 0.3918752670288086\n",
      "Epoch 109: Train loss: 0.35328179597854614, Accuracy: 0.36804383993148804\n"
     ]
    },
    {
     "name": "stderr",
     "output_type": "stream",
     "text": [
      "\r",
      "  2%|██▏                                                                                               | 110/5000 [01:43<1:15:02,  1.09it/s]"
     ]
    },
    {
     "name": "stdout",
     "output_type": "stream",
     "text": [
      "Epoch 109: Valid loss: 0.3433895707130432, Accuracy: 0.36750030517578125\n",
      "Epoch 110: Train loss: 0.35501304268836975, Accuracy: 0.3700266480445862\n"
     ]
    },
    {
     "name": "stderr",
     "output_type": "stream",
     "text": [
      "\r",
      "  2%|██▏                                                                                               | 111/5000 [01:44<1:14:40,  1.09it/s]"
     ]
    },
    {
     "name": "stdout",
     "output_type": "stream",
     "text": [
      "Epoch 110: Valid loss: 0.322750985622406, Accuracy: 0.3431268334388733\n",
      "Epoch 111: Train loss: 0.35347992181777954, Accuracy: 0.3684423565864563\n"
     ]
    },
    {
     "name": "stderr",
     "output_type": "stream",
     "text": [
      "\r",
      "  2%|██▏                                                                                               | 112/5000 [01:45<1:14:51,  1.09it/s]"
     ]
    },
    {
     "name": "stdout",
     "output_type": "stream",
     "text": [
      "Epoch 111: Valid loss: 0.37985682487487793, Accuracy: 0.4040628671646118\n",
      "Epoch 112: Train loss: 0.3537348508834839, Accuracy: 0.36874639987945557\n"
     ]
    },
    {
     "name": "stderr",
     "output_type": "stream",
     "text": [
      "\r",
      "  2%|██▏                                                                                               | 113/5000 [01:46<1:14:31,  1.09it/s]"
     ]
    },
    {
     "name": "stdout",
     "output_type": "stream",
     "text": [
      "Epoch 112: Valid loss: 0.35688188672065735, Accuracy: 0.3796880841255188\n",
      "Epoch 113: Train loss: 0.3548150956630707, Accuracy: 0.3698633015155792\n"
     ]
    },
    {
     "name": "stderr",
     "output_type": "stream",
     "text": [
      "\r",
      "  2%|██▏                                                                                               | 114/5000 [01:47<1:15:02,  1.09it/s]"
     ]
    },
    {
     "name": "stdout",
     "output_type": "stream",
     "text": [
      "Epoch 113: Valid loss: 0.3682139813899994, Accuracy: 0.3918752074241638\n",
      "Epoch 114: Train loss: 0.3558518886566162, Accuracy: 0.37076669931411743\n"
     ]
    },
    {
     "name": "stderr",
     "output_type": "stream",
     "text": [
      "\r",
      "  2%|██▎                                                                                               | 115/5000 [01:48<1:15:29,  1.08it/s]"
     ]
    },
    {
     "name": "stdout",
     "output_type": "stream",
     "text": [
      "Epoch 114: Valid loss: 0.2982211709022522, Accuracy: 0.3187502324581146\n",
      "Epoch 115: Train loss: 0.35468560457229614, Accuracy: 0.36952680349349976\n"
     ]
    },
    {
     "name": "stderr",
     "output_type": "stream",
     "text": [
      "\r",
      "  2%|██▎                                                                                               | 116/5000 [01:49<1:16:46,  1.06it/s]"
     ]
    },
    {
     "name": "stdout",
     "output_type": "stream",
     "text": [
      "Epoch 115: Valid loss: 0.3328615427017212, Accuracy: 0.35531318187713623\n",
      "Epoch 116: Train loss: 0.3508366644382477, Accuracy: 0.36532294750213623\n"
     ]
    },
    {
     "name": "stderr",
     "output_type": "stream",
     "text": [
      "\r",
      "  2%|██▎                                                                                               | 117/5000 [01:50<1:16:18,  1.07it/s]"
     ]
    },
    {
     "name": "stdout",
     "output_type": "stream",
     "text": [
      "Epoch 116: Valid loss: 0.31105858087539673, Accuracy: 0.33093979954719543\n",
      "Epoch 117: Train loss: 0.34954094886779785, Accuracy: 0.36412346363067627\n"
     ]
    },
    {
     "name": "stderr",
     "output_type": "stream",
     "text": [
      "\r",
      "  2%|██▎                                                                                               | 118/5000 [01:51<1:15:29,  1.08it/s]"
     ]
    },
    {
     "name": "stdout",
     "output_type": "stream",
     "text": [
      "Epoch 117: Valid loss: 0.34846803545951843, Accuracy: 0.367500364780426\n",
      "Epoch 118: Train loss: 0.3548387885093689, Accuracy: 0.36981937289237976\n"
     ]
    },
    {
     "name": "stderr",
     "output_type": "stream",
     "text": [
      "\r",
      "  2%|██▎                                                                                               | 119/5000 [01:52<1:15:05,  1.08it/s]"
     ]
    },
    {
     "name": "stdout",
     "output_type": "stream",
     "text": [
      "Epoch 118: Valid loss: 0.3692464828491211, Accuracy: 0.3918752372264862\n",
      "Epoch 119: Train loss: 0.35157451033592224, Accuracy: 0.3663780391216278\n"
     ]
    },
    {
     "name": "stderr",
     "output_type": "stream",
     "text": [
      "\r",
      "  2%|██▎                                                                                               | 120/5000 [01:53<1:16:10,  1.07it/s]"
     ]
    },
    {
     "name": "stdout",
     "output_type": "stream",
     "text": [
      "Epoch 119: Valid loss: 0.3578522205352783, Accuracy: 0.37968870997428894\n",
      "Epoch 120: Train loss: 0.3529187738895416, Accuracy: 0.3678588569164276\n"
     ]
    },
    {
     "name": "stderr",
     "output_type": "stream",
     "text": [
      "\r",
      "  2%|██▎                                                                                               | 121/5000 [01:54<1:15:39,  1.07it/s]"
     ]
    },
    {
     "name": "stdout",
     "output_type": "stream",
     "text": [
      "Epoch 120: Valid loss: 0.33378589153289795, Accuracy: 0.35531294345855713\n",
      "Epoch 121: Train loss: 0.35193464159965515, Accuracy: 0.36690303683280945\n"
     ]
    },
    {
     "name": "stderr",
     "output_type": "stream",
     "text": [
      "\r",
      "  2%|██▍                                                                                               | 122/5000 [01:55<1:15:28,  1.08it/s]"
     ]
    },
    {
     "name": "stdout",
     "output_type": "stream",
     "text": [
      "Epoch 121: Valid loss: 0.29719120264053345, Accuracy: 0.31875079870224\n",
      "Epoch 122: Train loss: 0.3497730791568756, Accuracy: 0.3647834360599518\n"
     ]
    },
    {
     "name": "stderr",
     "output_type": "stream",
     "text": [
      "\r",
      "  2%|██▍                                                                                               | 123/5000 [01:55<1:15:19,  1.08it/s]"
     ]
    },
    {
     "name": "stdout",
     "output_type": "stream",
     "text": [
      "Epoch 122: Valid loss: 0.3324574828147888, Accuracy: 0.35531288385391235\n",
      "Epoch 123: Train loss: 0.3538833260536194, Accuracy: 0.3684353530406952\n"
     ]
    },
    {
     "name": "stderr",
     "output_type": "stream",
     "text": [
      "\r",
      "  2%|██▍                                                                                               | 124/5000 [01:56<1:15:49,  1.07it/s]"
     ]
    },
    {
     "name": "stdout",
     "output_type": "stream",
     "text": [
      "Epoch 123: Valid loss: 0.3679797053337097, Accuracy: 0.3918754756450653\n",
      "Epoch 124: Train loss: 0.35721632838249207, Accuracy: 0.37200701236724854\n"
     ]
    },
    {
     "name": "stderr",
     "output_type": "stream",
     "text": [
      "\r",
      "  2%|██▍                                                                                               | 125/5000 [01:57<1:15:09,  1.08it/s]"
     ]
    },
    {
     "name": "stdout",
     "output_type": "stream",
     "text": [
      "Epoch 124: Valid loss: 0.3322518467903137, Accuracy: 0.35531312227249146\n",
      "Epoch 125: Train loss: 0.35335418581962585, Accuracy: 0.36799854040145874\n"
     ]
    },
    {
     "name": "stderr",
     "output_type": "stream",
     "text": [
      "\r",
      "  3%|██▍                                                                                               | 126/5000 [01:58<1:14:52,  1.08it/s]"
     ]
    },
    {
     "name": "stdout",
     "output_type": "stream",
     "text": [
      "Epoch 125: Valid loss: 0.34362852573394775, Accuracy: 0.3675002455711365\n",
      "Epoch 126: Train loss: 0.351798415184021, Accuracy: 0.3668282628059387\n"
     ]
    },
    {
     "name": "stderr",
     "output_type": "stream",
     "text": [
      "\r",
      "  3%|██▍                                                                                               | 127/5000 [01:59<1:15:05,  1.08it/s]"
     ]
    },
    {
     "name": "stdout",
     "output_type": "stream",
     "text": [
      "Epoch 126: Valid loss: 0.3679649233818054, Accuracy: 0.391875296831131\n",
      "Epoch 127: Train loss: 0.3518711030483246, Accuracy: 0.36666804552078247\n"
     ]
    },
    {
     "name": "stderr",
     "output_type": "stream",
     "text": [
      "\r",
      "  3%|██▌                                                                                               | 128/5000 [02:00<1:15:07,  1.08it/s]"
     ]
    },
    {
     "name": "stdout",
     "output_type": "stream",
     "text": [
      "Epoch 127: Valid loss: 0.40423497557640076, Accuracy: 0.4284377694129944\n",
      "Epoch 128: Train loss: 0.3541720509529114, Accuracy: 0.3691358268260956\n"
     ]
    },
    {
     "name": "stderr",
     "output_type": "stream",
     "text": [
      "\r",
      "  3%|██▌                                                                                               | 129/5000 [02:01<1:14:45,  1.09it/s]"
     ]
    },
    {
     "name": "stdout",
     "output_type": "stream",
     "text": [
      "Epoch 128: Valid loss: 0.33251601457595825, Accuracy: 0.35531294345855713\n",
      "Epoch 129: Train loss: 0.3600051999092102, Accuracy: 0.37504443526268005\n"
     ]
    },
    {
     "name": "stderr",
     "output_type": "stream",
     "text": [
      "\r",
      "  3%|██▌                                                                                               | 130/5000 [02:02<1:14:52,  1.08it/s]"
     ]
    },
    {
     "name": "stdout",
     "output_type": "stream",
     "text": [
      "Epoch 129: Valid loss: 0.36917048692703247, Accuracy: 0.391875684261322\n",
      "Epoch 130: Train loss: 0.3525841236114502, Accuracy: 0.3674101233482361\n"
     ]
    },
    {
     "name": "stderr",
     "output_type": "stream",
     "text": [
      "\r",
      "  3%|██▌                                                                                               | 131/5000 [02:03<1:14:55,  1.08it/s]"
     ]
    },
    {
     "name": "stdout",
     "output_type": "stream",
     "text": [
      "Epoch 130: Valid loss: 0.3691527247428894, Accuracy: 0.39187586307525635\n",
      "Epoch 131: Train loss: 0.3537210524082184, Accuracy: 0.3685838282108307\n"
     ]
    },
    {
     "name": "stderr",
     "output_type": "stream",
     "text": [
      "\r",
      "  3%|██▌                                                                                               | 132/5000 [02:04<1:14:52,  1.08it/s]"
     ]
    },
    {
     "name": "stdout",
     "output_type": "stream",
     "text": [
      "Epoch 131: Valid loss: 0.30887624621391296, Accuracy: 0.3309377431869507\n",
      "Epoch 132: Train loss: 0.3557807207107544, Accuracy: 0.37078797817230225\n"
     ]
    },
    {
     "name": "stderr",
     "output_type": "stream",
     "text": [
      "\r",
      "  3%|██▌                                                                                               | 133/5000 [02:05<1:15:03,  1.08it/s]"
     ]
    },
    {
     "name": "stdout",
     "output_type": "stream",
     "text": [
      "Epoch 132: Valid loss: 0.3688477873802185, Accuracy: 0.39187538623809814\n",
      "Epoch 133: Train loss: 0.35856983065605164, Accuracy: 0.37358322739601135\n"
     ]
    },
    {
     "name": "stderr",
     "output_type": "stream",
     "text": [
      "\r",
      "  3%|██▋                                                                                               | 134/5000 [02:06<1:14:45,  1.08it/s]"
     ]
    },
    {
     "name": "stdout",
     "output_type": "stream",
     "text": [
      "Epoch 133: Valid loss: 0.3087867796421051, Accuracy: 0.3309383988380432\n",
      "Epoch 134: Train loss: 0.35584160685539246, Accuracy: 0.37087318301200867\n"
     ]
    },
    {
     "name": "stderr",
     "output_type": "stream",
     "text": [
      "\r",
      "  3%|██▋                                                                                               | 135/5000 [02:07<1:14:31,  1.09it/s]"
     ]
    },
    {
     "name": "stdout",
     "output_type": "stream",
     "text": [
      "Epoch 134: Valid loss: 0.3326541781425476, Accuracy: 0.35531294345855713\n",
      "Epoch 135: Train loss: 0.35512489080429077, Accuracy: 0.37010103464126587\n"
     ]
    },
    {
     "name": "stderr",
     "output_type": "stream",
     "text": [
      "\r",
      "  3%|██▋                                                                                               | 136/5000 [02:07<1:13:54,  1.10it/s]"
     ]
    },
    {
     "name": "stdout",
     "output_type": "stream",
     "text": [
      "Epoch 135: Valid loss: 0.3325675427913666, Accuracy: 0.35531294345855713\n",
      "Epoch 136: Train loss: 0.3517587184906006, Accuracy: 0.3665953576564789\n"
     ]
    },
    {
     "name": "stderr",
     "output_type": "stream",
     "text": [
      "\r",
      "  3%|██▋                                                                                               | 137/5000 [02:08<1:13:36,  1.10it/s]"
     ]
    },
    {
     "name": "stdout",
     "output_type": "stream",
     "text": [
      "Epoch 136: Valid loss: 0.3691858649253845, Accuracy: 0.39187562465667725\n",
      "Epoch 137: Train loss: 0.35717037320137024, Accuracy: 0.3722137212753296\n"
     ]
    },
    {
     "name": "stderr",
     "output_type": "stream",
     "text": [
      "\r",
      "  3%|██▋                                                                                               | 138/5000 [02:09<1:13:19,  1.11it/s]"
     ]
    },
    {
     "name": "stdout",
     "output_type": "stream",
     "text": [
      "Epoch 137: Valid loss: 0.3092724084854126, Accuracy: 0.330938458442688\n",
      "Epoch 138: Train loss: 0.34963956475257874, Accuracy: 0.3645540475845337\n"
     ]
    },
    {
     "name": "stderr",
     "output_type": "stream",
     "text": [
      "\r",
      "  3%|██▋                                                                                               | 139/5000 [02:10<1:13:30,  1.10it/s]"
     ]
    },
    {
     "name": "stdout",
     "output_type": "stream",
     "text": [
      "Epoch 138: Valid loss: 0.3442436456680298, Accuracy: 0.3675006031990051\n",
      "Epoch 139: Train loss: 0.3517039120197296, Accuracy: 0.36643949151039124\n"
     ]
    },
    {
     "name": "stderr",
     "output_type": "stream",
     "text": [
      "\r",
      "  3%|██▋                                                                                               | 140/5000 [02:11<1:13:32,  1.10it/s]"
     ]
    },
    {
     "name": "stdout",
     "output_type": "stream",
     "text": [
      "Epoch 139: Valid loss: 0.35706859827041626, Accuracy: 0.3796878457069397\n",
      "Epoch 140: Train loss: 0.3540125787258148, Accuracy: 0.3689242899417877\n"
     ]
    },
    {
     "name": "stderr",
     "output_type": "stream",
     "text": [
      "\r",
      "  3%|██▊                                                                                               | 141/5000 [02:12<1:14:24,  1.09it/s]"
     ]
    },
    {
     "name": "stdout",
     "output_type": "stream",
     "text": [
      "Epoch 140: Valid loss: 0.35616374015808105, Accuracy: 0.37968775629997253\n",
      "Epoch 141: Train loss: 0.3490920960903168, Accuracy: 0.3632171154022217\n"
     ]
    },
    {
     "name": "stderr",
     "output_type": "stream",
     "text": [
      "\r",
      "  3%|██▊                                                                                               | 142/5000 [02:13<1:14:46,  1.08it/s]"
     ]
    },
    {
     "name": "stdout",
     "output_type": "stream",
     "text": [
      "Epoch 141: Valid loss: 0.3680717945098877, Accuracy: 0.3918752074241638\n",
      "Epoch 142: Train loss: 0.352760374546051, Accuracy: 0.36760997772216797\n"
     ]
    },
    {
     "name": "stderr",
     "output_type": "stream",
     "text": [
      "\r",
      "  3%|██▊                                                                                               | 143/5000 [02:14<1:14:55,  1.08it/s]"
     ]
    },
    {
     "name": "stdout",
     "output_type": "stream",
     "text": [
      "Epoch 142: Valid loss: 0.3201250433921814, Accuracy: 0.3431253433227539\n",
      "Epoch 143: Train loss: 0.35376548767089844, Accuracy: 0.36875587701797485\n"
     ]
    },
    {
     "name": "stderr",
     "output_type": "stream",
     "text": [
      "\r",
      "  3%|██▊                                                                                               | 144/5000 [02:15<1:14:23,  1.09it/s]"
     ]
    },
    {
     "name": "stdout",
     "output_type": "stream",
     "text": [
      "Epoch 143: Valid loss: 0.36798974871635437, Accuracy: 0.3918755054473877\n",
      "Epoch 144: Train loss: 0.35704943537712097, Accuracy: 0.3720985949039459\n"
     ]
    },
    {
     "name": "stderr",
     "output_type": "stream",
     "text": [
      "\r",
      "  3%|██▊                                                                                               | 145/5000 [02:16<1:14:22,  1.09it/s]"
     ]
    },
    {
     "name": "stdout",
     "output_type": "stream",
     "text": [
      "Epoch 144: Valid loss: 0.344642698764801, Accuracy: 0.3675002455711365\n",
      "Epoch 145: Train loss: 0.35691794753074646, Accuracy: 0.3719882369041443\n"
     ]
    },
    {
     "name": "stderr",
     "output_type": "stream",
     "text": [
      "\r",
      "  3%|██▊                                                                                               | 146/5000 [02:17<1:13:49,  1.10it/s]"
     ]
    },
    {
     "name": "stdout",
     "output_type": "stream",
     "text": [
      "Epoch 145: Valid loss: 0.3441081643104553, Accuracy: 0.36750033497810364\n",
      "Epoch 146: Train loss: 0.3529722988605499, Accuracy: 0.3678830862045288\n"
     ]
    },
    {
     "name": "stderr",
     "output_type": "stream",
     "text": [
      "\r",
      "  3%|██▉                                                                                               | 147/5000 [02:18<1:13:36,  1.10it/s]"
     ]
    },
    {
     "name": "stdout",
     "output_type": "stream",
     "text": [
      "Epoch 146: Valid loss: 0.34574347734451294, Accuracy: 0.3675006926059723\n",
      "Epoch 147: Train loss: 0.3573330044746399, Accuracy: 0.37210002541542053\n"
     ]
    },
    {
     "name": "stderr",
     "output_type": "stream",
     "text": [
      "\r",
      "  3%|██▉                                                                                               | 148/5000 [02:18<1:14:03,  1.09it/s]"
     ]
    },
    {
     "name": "stdout",
     "output_type": "stream",
     "text": [
      "Epoch 147: Valid loss: 0.33572953939437866, Accuracy: 0.3553135395050049\n",
      "Epoch 148: Train loss: 0.3508468270301819, Accuracy: 0.3655916154384613\n"
     ]
    },
    {
     "name": "stderr",
     "output_type": "stream",
     "text": [
      "\r",
      "  3%|██▉                                                                                               | 149/5000 [02:19<1:13:56,  1.09it/s]"
     ]
    },
    {
     "name": "stdout",
     "output_type": "stream",
     "text": [
      "Epoch 148: Valid loss: 0.29727962613105774, Accuracy: 0.31875067949295044\n",
      "Epoch 149: Train loss: 0.3517223000526428, Accuracy: 0.3666481673717499\n"
     ]
    },
    {
     "name": "stderr",
     "output_type": "stream",
     "text": [
      "\r",
      "  3%|██▉                                                                                               | 150/5000 [02:20<1:14:03,  1.09it/s]"
     ]
    },
    {
     "name": "stdout",
     "output_type": "stream",
     "text": [
      "Epoch 149: Valid loss: 0.33223310112953186, Accuracy: 0.3553127348423004\n",
      "Epoch 150: Train loss: 0.3506571054458618, Accuracy: 0.365544855594635\n"
     ]
    },
    {
     "name": "stderr",
     "output_type": "stream",
     "text": [
      "\r",
      "  3%|██▉                                                                                               | 151/5000 [02:21<1:13:48,  1.10it/s]"
     ]
    },
    {
     "name": "stdout",
     "output_type": "stream",
     "text": [
      "Epoch 150: Valid loss: 0.3459913730621338, Accuracy: 0.3675004243850708\n",
      "Epoch 151: Train loss: 0.3559566140174866, Accuracy: 0.37096381187438965\n"
     ]
    },
    {
     "name": "stderr",
     "output_type": "stream",
     "text": [
      "\r",
      "  3%|██▉                                                                                               | 152/5000 [02:22<1:13:56,  1.09it/s]"
     ]
    },
    {
     "name": "stdout",
     "output_type": "stream",
     "text": [
      "Epoch 151: Valid loss: 0.34710249304771423, Accuracy: 0.3675004243850708\n",
      "Epoch 152: Train loss: 0.3536846339702606, Accuracy: 0.36853644251823425\n"
     ]
    },
    {
     "name": "stderr",
     "output_type": "stream",
     "text": [
      "\r",
      "  3%|██▉                                                                                               | 153/5000 [02:23<1:13:46,  1.09it/s]"
     ]
    },
    {
     "name": "stdout",
     "output_type": "stream",
     "text": [
      "Epoch 152: Valid loss: 0.33239495754241943, Accuracy: 0.35531359910964966\n",
      "Epoch 153: Train loss: 0.35064229369163513, Accuracy: 0.36555343866348267\n"
     ]
    },
    {
     "name": "stderr",
     "output_type": "stream",
     "text": [
      "\r",
      "  3%|███                                                                                               | 154/5000 [02:24<1:14:00,  1.09it/s]"
     ]
    },
    {
     "name": "stdout",
     "output_type": "stream",
     "text": [
      "Epoch 153: Valid loss: 0.3601175546646118, Accuracy: 0.37968963384628296\n",
      "Epoch 154: Train loss: 0.3533591330051422, Accuracy: 0.36838069558143616\n"
     ]
    },
    {
     "name": "stderr",
     "output_type": "stream",
     "text": [
      "\r",
      "  3%|███                                                                                               | 155/5000 [02:25<1:13:59,  1.09it/s]"
     ]
    },
    {
     "name": "stdout",
     "output_type": "stream",
     "text": [
      "Epoch 154: Valid loss: 0.33191055059432983, Accuracy: 0.3553127348423004\n",
      "Epoch 155: Train loss: 0.3492923974990845, Accuracy: 0.3641113042831421\n"
     ]
    },
    {
     "name": "stderr",
     "output_type": "stream",
     "text": [
      "\r",
      "  3%|███                                                                                               | 156/5000 [02:26<1:14:42,  1.08it/s]"
     ]
    },
    {
     "name": "stdout",
     "output_type": "stream",
     "text": [
      "Epoch 155: Valid loss: 0.30845946073532104, Accuracy: 0.33093777298927307\n",
      "Epoch 156: Train loss: 0.3524300158023834, Accuracy: 0.3673625588417053\n"
     ]
    },
    {
     "name": "stderr",
     "output_type": "stream",
     "text": [
      "\r",
      "  3%|███                                                                                               | 157/5000 [02:27<1:14:30,  1.08it/s]"
     ]
    },
    {
     "name": "stdout",
     "output_type": "stream",
     "text": [
      "Epoch 156: Valid loss: 0.3579292297363281, Accuracy: 0.3796881437301636\n",
      "Epoch 157: Train loss: 0.35356107354164124, Accuracy: 0.36839956045150757\n"
     ]
    },
    {
     "name": "stderr",
     "output_type": "stream",
     "text": [
      "\r",
      "  3%|███                                                                                               | 158/5000 [02:28<1:14:25,  1.08it/s]"
     ]
    },
    {
     "name": "stdout",
     "output_type": "stream",
     "text": [
      "Epoch 157: Valid loss: 0.33351513743400574, Accuracy: 0.35531294345855713\n",
      "Epoch 158: Train loss: 0.35487768054008484, Accuracy: 0.3695093095302582\n"
     ]
    },
    {
     "name": "stderr",
     "output_type": "stream",
     "text": [
      "\r",
      "  3%|███                                                                                               | 159/5000 [02:29<1:15:00,  1.08it/s]"
     ]
    },
    {
     "name": "stdout",
     "output_type": "stream",
     "text": [
      "Epoch 158: Valid loss: 0.38031813502311707, Accuracy: 0.40406274795532227\n",
      "Epoch 159: Train loss: 0.3539879024028778, Accuracy: 0.3686845004558563\n"
     ]
    },
    {
     "name": "stderr",
     "output_type": "stream",
     "text": [
      "\r",
      "  3%|███▏                                                                                              | 160/5000 [02:29<1:15:00,  1.08it/s]"
     ]
    },
    {
     "name": "stdout",
     "output_type": "stream",
     "text": [
      "Epoch 159: Valid loss: 0.35676252841949463, Accuracy: 0.3796878755092621\n",
      "Epoch 160: Train loss: 0.3524974584579468, Accuracy: 0.3674488961696625\n"
     ]
    },
    {
     "name": "stderr",
     "output_type": "stream",
     "text": [
      "\r",
      "  3%|███▏                                                                                              | 161/5000 [02:30<1:14:21,  1.08it/s]"
     ]
    },
    {
     "name": "stdout",
     "output_type": "stream",
     "text": [
      "Epoch 160: Valid loss: 0.34464192390441895, Accuracy: 0.3675008714199066\n",
      "Epoch 161: Train loss: 0.3540905714035034, Accuracy: 0.36888769268989563\n"
     ]
    },
    {
     "name": "stderr",
     "output_type": "stream",
     "text": [
      "\r",
      "  3%|███▏                                                                                              | 162/5000 [02:31<1:14:29,  1.08it/s]"
     ]
    },
    {
     "name": "stdout",
     "output_type": "stream",
     "text": [
      "Epoch 161: Valid loss: 0.35582202672958374, Accuracy: 0.37968772649765015\n",
      "Epoch 162: Train loss: 0.3487338423728943, Accuracy: 0.36361369490623474\n"
     ]
    },
    {
     "name": "stderr",
     "output_type": "stream",
     "text": [
      "\r",
      "  3%|███▏                                                                                              | 163/5000 [02:32<1:14:27,  1.08it/s]"
     ]
    },
    {
     "name": "stdout",
     "output_type": "stream",
     "text": [
      "Epoch 162: Valid loss: 0.34400859475135803, Accuracy: 0.3675004541873932\n",
      "Epoch 163: Train loss: 0.34949222207069397, Accuracy: 0.3643561899662018\n"
     ]
    },
    {
     "name": "stderr",
     "output_type": "stream",
     "text": [
      "\r",
      "  3%|███▏                                                                                              | 164/5000 [02:33<1:13:35,  1.10it/s]"
     ]
    },
    {
     "name": "stdout",
     "output_type": "stream",
     "text": [
      "Epoch 163: Valid loss: 0.3572942018508911, Accuracy: 0.3796878755092621\n",
      "Epoch 164: Train loss: 0.3540354371070862, Accuracy: 0.3690459728240967\n"
     ]
    },
    {
     "name": "stderr",
     "output_type": "stream",
     "text": [
      "\r",
      "  3%|███▏                                                                                              | 165/5000 [02:34<1:13:17,  1.10it/s]"
     ]
    },
    {
     "name": "stdout",
     "output_type": "stream",
     "text": [
      "Epoch 164: Valid loss: 0.37950241565704346, Accuracy: 0.4040628671646118\n",
      "Epoch 165: Train loss: 0.3511067032814026, Accuracy: 0.36599913239479065\n"
     ]
    },
    {
     "name": "stderr",
     "output_type": "stream",
     "text": [
      "\r",
      "  3%|███▎                                                                                              | 166/5000 [02:35<1:14:48,  1.08it/s]"
     ]
    },
    {
     "name": "stdout",
     "output_type": "stream",
     "text": [
      "Epoch 165: Valid loss: 0.3812938332557678, Accuracy: 0.40406274795532227\n",
      "Epoch 166: Train loss: 0.3527168333530426, Accuracy: 0.3675980269908905\n"
     ]
    },
    {
     "name": "stderr",
     "output_type": "stream",
     "text": [
      "\r",
      "  3%|███▎                                                                                              | 167/5000 [02:36<1:14:29,  1.08it/s]"
     ]
    },
    {
     "name": "stdout",
     "output_type": "stream",
     "text": [
      "Epoch 166: Valid loss: 0.3231329917907715, Accuracy: 0.3431263566017151\n",
      "Epoch 167: Train loss: 0.3570046126842499, Accuracy: 0.3720495402812958\n"
     ]
    },
    {
     "name": "stderr",
     "output_type": "stream",
     "text": [
      "\r",
      "  3%|███▎                                                                                              | 168/5000 [02:37<1:14:42,  1.08it/s]"
     ]
    },
    {
     "name": "stdout",
     "output_type": "stream",
     "text": [
      "Epoch 167: Valid loss: 0.33338743448257446, Accuracy: 0.3553133010864258\n",
      "Epoch 168: Train loss: 0.348479688167572, Accuracy: 0.3632754981517792\n"
     ]
    },
    {
     "name": "stderr",
     "output_type": "stream",
     "text": [
      "\r",
      "  3%|███▎                                                                                              | 169/5000 [02:38<1:14:06,  1.09it/s]"
     ]
    },
    {
     "name": "stdout",
     "output_type": "stream",
     "text": [
      "Epoch 168: Valid loss: 0.3313506245613098, Accuracy: 0.35531318187713623\n",
      "Epoch 169: Train loss: 0.3506190776824951, Accuracy: 0.3653087317943573\n"
     ]
    },
    {
     "name": "stderr",
     "output_type": "stream",
     "text": [
      "\r",
      "  3%|███▎                                                                                              | 170/5000 [02:39<1:13:54,  1.09it/s]"
     ]
    },
    {
     "name": "stdout",
     "output_type": "stream",
     "text": [
      "Epoch 169: Valid loss: 0.32048824429512024, Accuracy: 0.34312528371810913\n",
      "Epoch 170: Train loss: 0.35084810853004456, Accuracy: 0.36532843112945557\n"
     ]
    },
    {
     "name": "stderr",
     "output_type": "stream",
     "text": [
      "\r",
      "  3%|███▎                                                                                              | 171/5000 [02:40<1:13:32,  1.09it/s]"
     ]
    },
    {
     "name": "stdout",
     "output_type": "stream",
     "text": [
      "Epoch 170: Valid loss: 0.3231450915336609, Accuracy: 0.34312599897384644\n",
      "Epoch 171: Train loss: 0.35391509532928467, Accuracy: 0.3687020540237427\n"
     ]
    },
    {
     "name": "stderr",
     "output_type": "stream",
     "text": [
      "\r",
      "  3%|███▎                                                                                              | 172/5000 [02:41<1:14:02,  1.09it/s]"
     ]
    },
    {
     "name": "stdout",
     "output_type": "stream",
     "text": [
      "Epoch 171: Valid loss: 0.36756277084350586, Accuracy: 0.391875684261322\n",
      "Epoch 172: Train loss: 0.354919970035553, Accuracy: 0.3696364760398865\n"
     ]
    },
    {
     "name": "stderr",
     "output_type": "stream",
     "text": [
      "\r",
      "  3%|███▍                                                                                              | 173/5000 [02:41<1:13:59,  1.09it/s]"
     ]
    },
    {
     "name": "stdout",
     "output_type": "stream",
     "text": [
      "Epoch 172: Valid loss: 0.34353119134902954, Accuracy: 0.367500364780426\n",
      "Epoch 173: Train loss: 0.3539919853210449, Accuracy: 0.36891624331474304\n"
     ]
    },
    {
     "name": "stderr",
     "output_type": "stream",
     "text": [
      "\r",
      "  3%|███▍                                                                                              | 174/5000 [02:42<1:14:13,  1.08it/s]"
     ]
    },
    {
     "name": "stdout",
     "output_type": "stream",
     "text": [
      "Epoch 173: Valid loss: 0.32301902770996094, Accuracy: 0.34312552213668823\n",
      "Epoch 174: Train loss: 0.3524847626686096, Accuracy: 0.36734652519226074\n"
     ]
    },
    {
     "name": "stderr",
     "output_type": "stream",
     "text": [
      "\r",
      "  4%|███▍                                                                                              | 175/5000 [02:43<1:14:40,  1.08it/s]"
     ]
    },
    {
     "name": "stdout",
     "output_type": "stream",
     "text": [
      "Epoch 174: Valid loss: 0.35522836446762085, Accuracy: 0.37968799471855164\n",
      "Epoch 175: Train loss: 0.3560364544391632, Accuracy: 0.37079423666000366\n"
     ]
    },
    {
     "name": "stderr",
     "output_type": "stream",
     "text": [
      "\r",
      "  4%|███▍                                                                                              | 176/5000 [02:44<1:15:22,  1.07it/s]"
     ]
    },
    {
     "name": "stdout",
     "output_type": "stream",
     "text": [
      "Epoch 175: Valid loss: 0.3093264102935791, Accuracy: 0.3309383988380432\n",
      "Epoch 176: Train loss: 0.349627286195755, Accuracy: 0.36447039246559143\n"
     ]
    },
    {
     "name": "stderr",
     "output_type": "stream",
     "text": [
      "\r",
      "  4%|███▍                                                                                              | 177/5000 [02:45<1:15:04,  1.07it/s]"
     ]
    },
    {
     "name": "stdout",
     "output_type": "stream",
     "text": [
      "Epoch 176: Valid loss: 0.3556792140007019, Accuracy: 0.3796879053115845\n",
      "Epoch 177: Train loss: 0.35583123564720154, Accuracy: 0.37077823281288147\n"
     ]
    },
    {
     "name": "stderr",
     "output_type": "stream",
     "text": [
      "\r",
      "  4%|███▍                                                                                              | 178/5000 [02:46<1:15:11,  1.07it/s]"
     ]
    },
    {
     "name": "stdout",
     "output_type": "stream",
     "text": [
      "Epoch 177: Valid loss: 0.38019683957099915, Accuracy: 0.40406274795532227\n",
      "Epoch 178: Train loss: 0.34772786498069763, Accuracy: 0.36223307251930237\n"
     ]
    },
    {
     "name": "stderr",
     "output_type": "stream",
     "text": [
      "\r",
      "  4%|███▌                                                                                              | 179/5000 [02:47<1:14:53,  1.07it/s]"
     ]
    },
    {
     "name": "stdout",
     "output_type": "stream",
     "text": [
      "Epoch 178: Valid loss: 0.38103729486465454, Accuracy: 0.40406298637390137\n",
      "Epoch 179: Train loss: 0.3501605689525604, Accuracy: 0.3650168180465698\n"
     ]
    },
    {
     "name": "stderr",
     "output_type": "stream",
     "text": [
      "\r",
      "  4%|███▌                                                                                              | 180/5000 [02:48<1:14:26,  1.08it/s]"
     ]
    },
    {
     "name": "stdout",
     "output_type": "stream",
     "text": [
      "Epoch 179: Valid loss: 0.35682183504104614, Accuracy: 0.3796883523464203\n",
      "Epoch 180: Train loss: 0.3549445867538452, Accuracy: 0.36980563402175903\n"
     ]
    },
    {
     "name": "stderr",
     "output_type": "stream",
     "text": [
      "\r",
      "  4%|███▌                                                                                              | 181/5000 [02:49<1:14:29,  1.08it/s]"
     ]
    },
    {
     "name": "stdout",
     "output_type": "stream",
     "text": [
      "Epoch 180: Valid loss: 0.35544803738594055, Accuracy: 0.37968766689300537\n",
      "Epoch 181: Train loss: 0.3526802957057953, Accuracy: 0.36772671341896057\n"
     ]
    },
    {
     "name": "stderr",
     "output_type": "stream",
     "text": [
      "\r",
      "  4%|███▌                                                                                              | 182/5000 [02:50<1:14:07,  1.08it/s]"
     ]
    },
    {
     "name": "stdout",
     "output_type": "stream",
     "text": [
      "Epoch 181: Valid loss: 0.33133381605148315, Accuracy: 0.3553127646446228\n",
      "Epoch 182: Train loss: 0.352703720331192, Accuracy: 0.3676249086856842\n"
     ]
    },
    {
     "name": "stderr",
     "output_type": "stream",
     "text": [
      "\r",
      "  4%|███▌                                                                                              | 183/5000 [02:51<1:13:23,  1.09it/s]"
     ]
    },
    {
     "name": "stdout",
     "output_type": "stream",
     "text": [
      "Epoch 182: Valid loss: 0.32019537687301636, Accuracy: 0.34312576055526733\n",
      "Epoch 183: Train loss: 0.35350170731544495, Accuracy: 0.36838647723197937\n"
     ]
    },
    {
     "name": "stderr",
     "output_type": "stream",
     "text": [
      "\r",
      "  4%|███▌                                                                                              | 184/5000 [02:52<1:13:13,  1.10it/s]"
     ]
    },
    {
     "name": "stdout",
     "output_type": "stream",
     "text": [
      "Epoch 183: Valid loss: 0.33240556716918945, Accuracy: 0.3553132712841034\n",
      "Epoch 184: Train loss: 0.35061708092689514, Accuracy: 0.36535513401031494\n"
     ]
    },
    {
     "name": "stderr",
     "output_type": "stream",
     "text": [
      "\r",
      "  4%|███▋                                                                                              | 185/5000 [02:53<1:12:56,  1.10it/s]"
     ]
    },
    {
     "name": "stdout",
     "output_type": "stream",
     "text": [
      "Epoch 184: Valid loss: 0.3813554048538208, Accuracy: 0.4040628671646118\n",
      "Epoch 185: Train loss: 0.3547675311565399, Accuracy: 0.36971819400787354\n"
     ]
    },
    {
     "name": "stderr",
     "output_type": "stream",
     "text": [
      "\r",
      "  4%|███▋                                                                                              | 186/5000 [02:53<1:13:03,  1.10it/s]"
     ]
    },
    {
     "name": "stdout",
     "output_type": "stream",
     "text": [
      "Epoch 185: Valid loss: 0.3443080186843872, Accuracy: 0.36750054359436035\n",
      "Epoch 186: Train loss: 0.3495608866214752, Accuracy: 0.36439812183380127\n"
     ]
    },
    {
     "name": "stderr",
     "output_type": "stream",
     "text": [
      "\r",
      "  4%|███▋                                                                                              | 187/5000 [02:54<1:13:16,  1.09it/s]"
     ]
    },
    {
     "name": "stdout",
     "output_type": "stream",
     "text": [
      "Epoch 186: Valid loss: 0.36765551567077637, Accuracy: 0.3918757140636444\n",
      "Epoch 187: Train loss: 0.354638010263443, Accuracy: 0.3695679306983948\n"
     ]
    },
    {
     "name": "stderr",
     "output_type": "stream",
     "text": [
      "\r",
      "  4%|███▋                                                                                              | 188/5000 [02:55<1:13:13,  1.10it/s]"
     ]
    },
    {
     "name": "stdout",
     "output_type": "stream",
     "text": [
      "Epoch 187: Valid loss: 0.32022061944007874, Accuracy: 0.3431253135204315\n",
      "Epoch 188: Train loss: 0.35052013397216797, Accuracy: 0.365498423576355\n"
     ]
    },
    {
     "name": "stderr",
     "output_type": "stream",
     "text": [
      "\r",
      "  4%|███▋                                                                                              | 189/5000 [02:56<1:12:58,  1.10it/s]"
     ]
    },
    {
     "name": "stdout",
     "output_type": "stream",
     "text": [
      "Epoch 188: Valid loss: 0.40391460061073303, Accuracy: 0.4284380078315735\n",
      "Epoch 189: Train loss: 0.35728704929351807, Accuracy: 0.3720669746398926\n"
     ]
    },
    {
     "name": "stderr",
     "output_type": "stream",
     "text": [
      "\r",
      "  4%|███▋                                                                                              | 190/5000 [02:57<1:13:54,  1.08it/s]"
     ]
    },
    {
     "name": "stdout",
     "output_type": "stream",
     "text": [
      "Epoch 189: Valid loss: 0.355548620223999, Accuracy: 0.37968799471855164\n",
      "Epoch 190: Train loss: 0.3517647385597229, Accuracy: 0.3665650188922882\n"
     ]
    },
    {
     "name": "stderr",
     "output_type": "stream",
     "text": [
      "\r",
      "  4%|███▋                                                                                              | 191/5000 [02:58<1:13:59,  1.08it/s]"
     ]
    },
    {
     "name": "stdout",
     "output_type": "stream",
     "text": [
      "Epoch 190: Valid loss: 0.3325800895690918, Accuracy: 0.3553130626678467\n",
      "Epoch 191: Train loss: 0.3532630503177643, Accuracy: 0.368005633354187\n"
     ]
    },
    {
     "name": "stderr",
     "output_type": "stream",
     "text": [
      "\r",
      "  4%|███▊                                                                                              | 192/5000 [02:59<1:13:56,  1.08it/s]"
     ]
    },
    {
     "name": "stdout",
     "output_type": "stream",
     "text": [
      "Epoch 191: Valid loss: 0.3558654487133026, Accuracy: 0.3796878159046173\n",
      "Epoch 192: Train loss: 0.3536524474620819, Accuracy: 0.36867091059684753\n"
     ]
    },
    {
     "name": "stderr",
     "output_type": "stream",
     "text": [
      "\r",
      "  4%|███▊                                                                                              | 193/5000 [03:00<1:13:12,  1.09it/s]"
     ]
    },
    {
     "name": "stdout",
     "output_type": "stream",
     "text": [
      "Epoch 192: Valid loss: 0.35548025369644165, Accuracy: 0.3796879053115845\n",
      "Epoch 193: Train loss: 0.35280096530914307, Accuracy: 0.36754947900772095\n"
     ]
    },
    {
     "name": "stderr",
     "output_type": "stream",
     "text": [
      "\r",
      "  4%|███▊                                                                                              | 194/5000 [03:01<1:12:54,  1.10it/s]"
     ]
    },
    {
     "name": "stdout",
     "output_type": "stream",
     "text": [
      "Epoch 193: Valid loss: 0.3445759415626526, Accuracy: 0.36750027537345886\n",
      "Epoch 194: Train loss: 0.3594045341014862, Accuracy: 0.3743109405040741\n"
     ]
    },
    {
     "name": "stderr",
     "output_type": "stream",
     "text": [
      "\r",
      "  4%|███▊                                                                                              | 195/5000 [03:02<1:13:24,  1.09it/s]"
     ]
    },
    {
     "name": "stdout",
     "output_type": "stream",
     "text": [
      "Epoch 194: Valid loss: 0.3558182716369629, Accuracy: 0.3796878159046173\n",
      "Epoch 195: Train loss: 0.3571748733520508, Accuracy: 0.3718859851360321\n"
     ]
    },
    {
     "name": "stderr",
     "output_type": "stream",
     "text": [
      "\r",
      "  4%|███▊                                                                                              | 196/5000 [03:03<1:13:05,  1.10it/s]"
     ]
    },
    {
     "name": "stdout",
     "output_type": "stream",
     "text": [
      "Epoch 195: Valid loss: 0.3106302320957184, Accuracy: 0.3309381902217865\n",
      "Epoch 196: Train loss: 0.354507178068161, Accuracy: 0.3689635992050171\n"
     ]
    },
    {
     "name": "stderr",
     "output_type": "stream",
     "text": [
      "\r",
      "  4%|███▊                                                                                              | 197/5000 [03:04<1:13:25,  1.09it/s]"
     ]
    },
    {
     "name": "stdout",
     "output_type": "stream",
     "text": [
      "Epoch 196: Valid loss: 0.392647385597229, Accuracy: 0.41625016927719116\n",
      "Epoch 197: Train loss: 0.35684633255004883, Accuracy: 0.37185153365135193\n"
     ]
    },
    {
     "name": "stderr",
     "output_type": "stream",
     "text": [
      "\r",
      "  4%|███▉                                                                                              | 198/5000 [03:04<1:13:59,  1.08it/s]"
     ]
    },
    {
     "name": "stdout",
     "output_type": "stream",
     "text": [
      "Epoch 197: Valid loss: 0.33245590329170227, Accuracy: 0.35531264543533325\n",
      "Epoch 198: Train loss: 0.3578398823738098, Accuracy: 0.3728618323802948\n"
     ]
    },
    {
     "name": "stderr",
     "output_type": "stream",
     "text": [
      "\r",
      "  4%|███▉                                                                                              | 199/5000 [03:05<1:14:43,  1.07it/s]"
     ]
    },
    {
     "name": "stdout",
     "output_type": "stream",
     "text": [
      "Epoch 198: Valid loss: 0.33270639181137085, Accuracy: 0.3553128242492676\n",
      "Epoch 199: Train loss: 0.35460737347602844, Accuracy: 0.36952444911003113\n"
     ]
    },
    {
     "name": "stderr",
     "output_type": "stream",
     "text": [
      "\r",
      "  4%|███▉                                                                                              | 200/5000 [03:06<1:14:22,  1.08it/s]"
     ]
    },
    {
     "name": "stdout",
     "output_type": "stream",
     "text": [
      "Epoch 199: Valid loss: 0.3203815519809723, Accuracy: 0.34312593936920166\n",
      "Epoch 200: Train loss: 0.3484756648540497, Accuracy: 0.3634210526943207\n"
     ]
    },
    {
     "name": "stderr",
     "output_type": "stream",
     "text": [
      "\r",
      "  4%|███▉                                                                                              | 201/5000 [03:07<1:13:52,  1.08it/s]"
     ]
    },
    {
     "name": "stdout",
     "output_type": "stream",
     "text": [
      "Epoch 200: Valid loss: 0.38207295536994934, Accuracy: 0.4040626883506775\n",
      "Epoch 201: Train loss: 0.35479268431663513, Accuracy: 0.36973094940185547\n"
     ]
    },
    {
     "name": "stderr",
     "output_type": "stream",
     "text": [
      "\r",
      "  4%|███▉                                                                                              | 202/5000 [03:08<1:13:25,  1.09it/s]"
     ]
    },
    {
     "name": "stdout",
     "output_type": "stream",
     "text": [
      "Epoch 201: Valid loss: 0.34533557295799255, Accuracy: 0.36750054359436035\n",
      "Epoch 202: Train loss: 0.35508105158805847, Accuracy: 0.37005943059921265\n"
     ]
    },
    {
     "name": "stderr",
     "output_type": "stream",
     "text": [
      "\r",
      "  4%|███▉                                                                                              | 203/5000 [03:09<1:13:09,  1.09it/s]"
     ]
    },
    {
     "name": "stdout",
     "output_type": "stream",
     "text": [
      "Epoch 202: Valid loss: 0.30752357840538025, Accuracy: 0.3309379816055298\n",
      "Epoch 203: Train loss: 0.35792917013168335, Accuracy: 0.3729017972946167\n"
     ]
    },
    {
     "name": "stderr",
     "output_type": "stream",
     "text": [
      "\r",
      "  4%|███▉                                                                                              | 204/5000 [03:10<1:13:43,  1.08it/s]"
     ]
    },
    {
     "name": "stdout",
     "output_type": "stream",
     "text": [
      "Epoch 203: Valid loss: 0.3470920920372009, Accuracy: 0.3675006031990051\n",
      "Epoch 204: Train loss: 0.3546103835105896, Accuracy: 0.3693365156650543\n"
     ]
    },
    {
     "name": "stderr",
     "output_type": "stream",
     "text": [
      "\r",
      "  4%|████                                                                                              | 205/5000 [03:11<1:14:08,  1.08it/s]"
     ]
    },
    {
     "name": "stdout",
     "output_type": "stream",
     "text": [
      "Epoch 204: Valid loss: 0.33269673585891724, Accuracy: 0.35531318187713623\n",
      "Epoch 205: Train loss: 0.3512651026248932, Accuracy: 0.3653809726238251\n"
     ]
    },
    {
     "name": "stderr",
     "output_type": "stream",
     "text": [
      "\r",
      "  4%|████                                                                                              | 206/5000 [03:12<1:14:25,  1.07it/s]"
     ]
    },
    {
     "name": "stdout",
     "output_type": "stream",
     "text": [
      "Epoch 205: Valid loss: 0.3459452986717224, Accuracy: 0.367500901222229\n",
      "Epoch 206: Train loss: 0.3578207492828369, Accuracy: 0.3727099895477295\n"
     ]
    },
    {
     "name": "stderr",
     "output_type": "stream",
     "text": [
      "\r",
      "  4%|████                                                                                              | 207/5000 [03:13<1:13:50,  1.08it/s]"
     ]
    },
    {
     "name": "stdout",
     "output_type": "stream",
     "text": [
      "Epoch 206: Valid loss: 0.29916879534721375, Accuracy: 0.3187505304813385\n",
      "Epoch 207: Train loss: 0.35185039043426514, Accuracy: 0.366291344165802\n"
     ]
    },
    {
     "name": "stderr",
     "output_type": "stream",
     "text": [
      "\r",
      "  4%|████                                                                                              | 208/5000 [03:14<1:13:18,  1.09it/s]"
     ]
    },
    {
     "name": "stdout",
     "output_type": "stream",
     "text": [
      "Epoch 207: Valid loss: 0.3204154074192047, Accuracy: 0.34312549233436584\n",
      "Epoch 208: Train loss: 0.35398635268211365, Accuracy: 0.36886078119277954\n"
     ]
    },
    {
     "name": "stderr",
     "output_type": "stream",
     "text": [
      "\r",
      "  4%|████                                                                                              | 209/5000 [03:15<1:13:23,  1.09it/s]"
     ]
    },
    {
     "name": "stdout",
     "output_type": "stream",
     "text": [
      "Epoch 208: Valid loss: 0.35619962215423584, Accuracy: 0.3796878755092621\n",
      "Epoch 209: Train loss: 0.34837767481803894, Accuracy: 0.3633035719394684\n"
     ]
    },
    {
     "name": "stderr",
     "output_type": "stream",
     "text": [
      "\r",
      "  4%|████                                                                                              | 210/5000 [03:16<1:12:56,  1.09it/s]"
     ]
    },
    {
     "name": "stdout",
     "output_type": "stream",
     "text": [
      "Epoch 209: Valid loss: 0.30928781628608704, Accuracy: 0.3309380114078522\n",
      "Epoch 210: Train loss: 0.34962382912635803, Accuracy: 0.3643588423728943\n"
     ]
    },
    {
     "name": "stderr",
     "output_type": "stream",
     "text": [
      "\r",
      "  4%|████▏                                                                                             | 211/5000 [03:16<1:12:34,  1.10it/s]"
     ]
    },
    {
     "name": "stdout",
     "output_type": "stream",
     "text": [
      "Epoch 210: Valid loss: 0.3194911777973175, Accuracy: 0.34312528371810913\n",
      "Epoch 211: Train loss: 0.3510344624519348, Accuracy: 0.3657160997390747\n"
     ]
    },
    {
     "name": "stderr",
     "output_type": "stream",
     "text": [
      "\r",
      "  4%|████▏                                                                                             | 212/5000 [03:17<1:12:26,  1.10it/s]"
     ]
    },
    {
     "name": "stdout",
     "output_type": "stream",
     "text": [
      "Epoch 211: Valid loss: 0.3561071753501892, Accuracy: 0.37968793511390686\n",
      "Epoch 212: Train loss: 0.3506171703338623, Accuracy: 0.36512088775634766\n"
     ]
    },
    {
     "name": "stderr",
     "output_type": "stream",
     "text": [
      "\r",
      "  4%|████▏                                                                                             | 213/5000 [03:18<1:12:20,  1.10it/s]"
     ]
    },
    {
     "name": "stdout",
     "output_type": "stream",
     "text": [
      "Epoch 212: Valid loss: 0.32037270069122314, Accuracy: 0.34312599897384644\n",
      "Epoch 213: Train loss: 0.35158729553222656, Accuracy: 0.3664647042751312\n"
     ]
    },
    {
     "name": "stderr",
     "output_type": "stream",
     "text": [
      "\r",
      "  4%|████▏                                                                                             | 214/5000 [03:19<1:13:29,  1.09it/s]"
     ]
    },
    {
     "name": "stdout",
     "output_type": "stream",
     "text": [
      "Epoch 213: Valid loss: 0.34394729137420654, Accuracy: 0.3675004839897156\n",
      "Epoch 214: Train loss: 0.3487432599067688, Accuracy: 0.36337825655937195\n"
     ]
    },
    {
     "name": "stderr",
     "output_type": "stream",
     "text": [
      "\r",
      "  4%|████▏                                                                                             | 215/5000 [03:20<1:13:16,  1.09it/s]"
     ]
    },
    {
     "name": "stdout",
     "output_type": "stream",
     "text": [
      "Epoch 214: Valid loss: 0.3795474171638489, Accuracy: 0.40406298637390137\n",
      "Epoch 215: Train loss: 0.35270410776138306, Accuracy: 0.3675328493118286\n"
     ]
    },
    {
     "name": "stderr",
     "output_type": "stream",
     "text": [
      "\r",
      "  4%|████▏                                                                                             | 216/5000 [03:21<1:12:48,  1.09it/s]"
     ]
    },
    {
     "name": "stdout",
     "output_type": "stream",
     "text": [
      "Epoch 215: Valid loss: 0.3679969310760498, Accuracy: 0.39187535643577576\n",
      "Epoch 216: Train loss: 0.3556176424026489, Accuracy: 0.3706740438938141\n"
     ]
    },
    {
     "name": "stderr",
     "output_type": "stream",
     "text": [
      "\r",
      "  4%|████▎                                                                                             | 217/5000 [03:22<1:13:09,  1.09it/s]"
     ]
    },
    {
     "name": "stdout",
     "output_type": "stream",
     "text": [
      "Epoch 216: Valid loss: 0.3230375647544861, Accuracy: 0.34312522411346436\n",
      "Epoch 217: Train loss: 0.3531588613986969, Accuracy: 0.36793094873428345\n"
     ]
    },
    {
     "name": "stderr",
     "output_type": "stream",
     "text": [
      "\r",
      "  4%|████▎                                                                                             | 218/5000 [03:23<1:12:45,  1.10it/s]"
     ]
    },
    {
     "name": "stdout",
     "output_type": "stream",
     "text": [
      "Epoch 217: Valid loss: 0.3014638423919678, Accuracy: 0.3187524378299713\n",
      "Epoch 218: Train loss: 0.35359132289886475, Accuracy: 0.36846086382865906\n"
     ]
    },
    {
     "name": "stderr",
     "output_type": "stream",
     "text": [
      "\r",
      "  4%|████▎                                                                                             | 219/5000 [03:24<1:12:47,  1.09it/s]"
     ]
    },
    {
     "name": "stdout",
     "output_type": "stream",
     "text": [
      "Epoch 218: Valid loss: 0.3195675313472748, Accuracy: 0.3431254029273987\n",
      "Epoch 219: Train loss: 0.3567262291908264, Accuracy: 0.37166261672973633\n"
     ]
    },
    {
     "name": "stderr",
     "output_type": "stream",
     "text": [
      "\r",
      "  4%|████▎                                                                                             | 220/5000 [03:25<1:13:51,  1.08it/s]"
     ]
    },
    {
     "name": "stdout",
     "output_type": "stream",
     "text": [
      "Epoch 219: Valid loss: 0.3197900056838989, Accuracy: 0.3431254029273987\n",
      "Epoch 220: Train loss: 0.3526970446109772, Accuracy: 0.36764001846313477\n"
     ]
    },
    {
     "name": "stderr",
     "output_type": "stream",
     "text": [
      "\r",
      "  4%|████▎                                                                                             | 221/5000 [03:26<1:13:39,  1.08it/s]"
     ]
    },
    {
     "name": "stdout",
     "output_type": "stream",
     "text": [
      "Epoch 220: Valid loss: 0.35667845606803894, Accuracy: 0.37968769669532776\n",
      "Epoch 221: Train loss: 0.3537883162498474, Accuracy: 0.36859384179115295\n"
     ]
    },
    {
     "name": "stderr",
     "output_type": "stream",
     "text": [
      "\r",
      "  4%|████▎                                                                                             | 222/5000 [03:27<1:13:40,  1.08it/s]"
     ]
    },
    {
     "name": "stdout",
     "output_type": "stream",
     "text": [
      "Epoch 221: Valid loss: 0.35696548223495483, Accuracy: 0.37968796491622925\n",
      "Epoch 222: Train loss: 0.35096827149391174, Accuracy: 0.36578884720802307\n"
     ]
    },
    {
     "name": "stderr",
     "output_type": "stream",
     "text": [
      "\r",
      "  4%|████▎                                                                                             | 223/5000 [03:27<1:13:17,  1.09it/s]"
     ]
    },
    {
     "name": "stdout",
     "output_type": "stream",
     "text": [
      "Epoch 222: Valid loss: 0.2982161045074463, Accuracy: 0.31875038146972656\n",
      "Epoch 223: Train loss: 0.3479660749435425, Accuracy: 0.3627561628818512\n"
     ]
    },
    {
     "name": "stderr",
     "output_type": "stream",
     "text": [
      "\r",
      "  4%|████▍                                                                                             | 224/5000 [03:28<1:13:40,  1.08it/s]"
     ]
    },
    {
     "name": "stdout",
     "output_type": "stream",
     "text": [
      "Epoch 223: Valid loss: 0.3441430926322937, Accuracy: 0.36750054359436035\n",
      "Epoch 224: Train loss: 0.3548769950866699, Accuracy: 0.36975568532943726\n"
     ]
    },
    {
     "name": "stderr",
     "output_type": "stream",
     "text": [
      "\r",
      "  4%|████▍                                                                                             | 225/5000 [03:29<1:13:55,  1.08it/s]"
     ]
    },
    {
     "name": "stdout",
     "output_type": "stream",
     "text": [
      "Epoch 224: Valid loss: 0.33531495928764343, Accuracy: 0.3553128242492676\n",
      "Epoch 225: Train loss: 0.3509424030780792, Accuracy: 0.3657510280609131\n"
     ]
    },
    {
     "name": "stderr",
     "output_type": "stream",
     "text": [
      "\r",
      "  5%|████▍                                                                                             | 226/5000 [03:30<1:13:29,  1.08it/s]"
     ]
    },
    {
     "name": "stdout",
     "output_type": "stream",
     "text": [
      "Epoch 225: Valid loss: 0.32140105962753296, Accuracy: 0.34312549233436584\n",
      "Epoch 226: Train loss: 0.35300227999687195, Accuracy: 0.3675452172756195\n"
     ]
    },
    {
     "name": "stderr",
     "output_type": "stream",
     "text": [
      "\r",
      "  5%|████▍                                                                                             | 227/5000 [03:31<1:13:46,  1.08it/s]"
     ]
    },
    {
     "name": "stdout",
     "output_type": "stream",
     "text": [
      "Epoch 226: Valid loss: 0.3579341769218445, Accuracy: 0.3796878755092621\n",
      "Epoch 227: Train loss: 0.3515349328517914, Accuracy: 0.36640435457229614\n"
     ]
    },
    {
     "name": "stderr",
     "output_type": "stream",
     "text": [
      "\r",
      "  5%|████▍                                                                                             | 228/5000 [03:32<1:13:48,  1.08it/s]"
     ]
    },
    {
     "name": "stdout",
     "output_type": "stream",
     "text": [
      "Epoch 227: Valid loss: 0.3569616675376892, Accuracy: 0.37968766689300537\n",
      "Epoch 228: Train loss: 0.3526689112186432, Accuracy: 0.36769571900367737\n"
     ]
    },
    {
     "name": "stderr",
     "output_type": "stream",
     "text": [
      "\r",
      "  5%|████▍                                                                                             | 229/5000 [03:33<1:13:03,  1.09it/s]"
     ]
    },
    {
     "name": "stdout",
     "output_type": "stream",
     "text": [
      "Epoch 228: Valid loss: 0.2987772226333618, Accuracy: 0.3187508285045624\n",
      "Epoch 229: Train loss: 0.3493208885192871, Accuracy: 0.36331525444984436\n"
     ]
    },
    {
     "name": "stderr",
     "output_type": "stream",
     "text": [
      "\r",
      "  5%|████▌                                                                                             | 230/5000 [03:34<1:14:04,  1.07it/s]"
     ]
    },
    {
     "name": "stdout",
     "output_type": "stream",
     "text": [
      "Epoch 229: Valid loss: 0.33523187041282654, Accuracy: 0.35531383752822876\n",
      "Epoch 230: Train loss: 0.3526798486709595, Accuracy: 0.3674425184726715\n"
     ]
    },
    {
     "name": "stderr",
     "output_type": "stream",
     "text": [
      "\r",
      "  5%|████▌                                                                                             | 231/5000 [03:35<1:14:10,  1.07it/s]"
     ]
    },
    {
     "name": "stdout",
     "output_type": "stream",
     "text": [
      "Epoch 230: Valid loss: 0.35678136348724365, Accuracy: 0.3796877861022949\n",
      "Epoch 231: Train loss: 0.3495199680328369, Accuracy: 0.3642265498638153\n"
     ]
    },
    {
     "name": "stderr",
     "output_type": "stream",
     "text": [
      "\r",
      "  5%|████▌                                                                                             | 232/5000 [03:36<1:14:01,  1.07it/s]"
     ]
    },
    {
     "name": "stdout",
     "output_type": "stream",
     "text": [
      "Epoch 231: Valid loss: 0.3916884660720825, Accuracy: 0.41625040769577026\n",
      "Epoch 232: Train loss: 0.3512526750564575, Accuracy: 0.3659134805202484\n"
     ]
    },
    {
     "name": "stderr",
     "output_type": "stream",
     "text": [
      "\r",
      "  5%|████▌                                                                                             | 233/5000 [03:37<1:13:23,  1.08it/s]"
     ]
    },
    {
     "name": "stdout",
     "output_type": "stream",
     "text": [
      "Epoch 232: Valid loss: 0.32211536169052124, Accuracy: 0.34312570095062256\n",
      "Epoch 233: Train loss: 0.3490375280380249, Accuracy: 0.3632820248603821\n"
     ]
    },
    {
     "name": "stderr",
     "output_type": "stream",
     "text": [
      "\r",
      "  5%|████▌                                                                                             | 234/5000 [03:38<1:13:15,  1.08it/s]"
     ]
    },
    {
     "name": "stdout",
     "output_type": "stream",
     "text": [
      "Epoch 233: Valid loss: 0.3570348024368286, Accuracy: 0.3796879053115845\n",
      "Epoch 234: Train loss: 0.3557735085487366, Accuracy: 0.37060296535491943\n"
     ]
    },
    {
     "name": "stderr",
     "output_type": "stream",
     "text": [
      "\r",
      "  5%|████▌                                                                                             | 235/5000 [03:39<1:14:22,  1.07it/s]"
     ]
    },
    {
     "name": "stdout",
     "output_type": "stream",
     "text": [
      "Epoch 234: Valid loss: 0.3564852178096771, Accuracy: 0.3796878457069397\n",
      "Epoch 235: Train loss: 0.35034337639808655, Accuracy: 0.36518919467926025\n"
     ]
    },
    {
     "name": "stderr",
     "output_type": "stream",
     "text": [
      "\r",
      "  5%|████▋                                                                                             | 236/5000 [03:40<1:14:06,  1.07it/s]"
     ]
    },
    {
     "name": "stdout",
     "output_type": "stream",
     "text": [
      "Epoch 235: Valid loss: 0.36861491203308105, Accuracy: 0.3918755054473877\n",
      "Epoch 236: Train loss: 0.3579229712486267, Accuracy: 0.37295079231262207\n"
     ]
    },
    {
     "name": "stderr",
     "output_type": "stream",
     "text": [
      "\r",
      "  5%|████▋                                                                                             | 237/5000 [03:40<1:14:33,  1.06it/s]"
     ]
    },
    {
     "name": "stdout",
     "output_type": "stream",
     "text": [
      "Epoch 236: Valid loss: 0.325845867395401, Accuracy: 0.34312593936920166\n",
      "Epoch 237: Train loss: 0.3536079227924347, Accuracy: 0.36841773986816406\n"
     ]
    },
    {
     "name": "stderr",
     "output_type": "stream",
     "text": [
      "\r",
      "  5%|████▋                                                                                             | 238/5000 [03:41<1:14:24,  1.07it/s]"
     ]
    },
    {
     "name": "stdout",
     "output_type": "stream",
     "text": [
      "Epoch 237: Valid loss: 0.3679322600364685, Accuracy: 0.39187532663345337\n",
      "Epoch 238: Train loss: 0.3539731800556183, Accuracy: 0.3689351975917816\n"
     ]
    },
    {
     "name": "stderr",
     "output_type": "stream",
     "text": [
      "\r",
      "  5%|████▋                                                                                             | 239/5000 [03:42<1:13:59,  1.07it/s]"
     ]
    },
    {
     "name": "stdout",
     "output_type": "stream",
     "text": [
      "Epoch 238: Valid loss: 0.3676283359527588, Accuracy: 0.39187541604042053\n",
      "Epoch 239: Train loss: 0.3561227023601532, Accuracy: 0.3710338771343231\n"
     ]
    },
    {
     "name": "stderr",
     "output_type": "stream",
     "text": [
      "\r",
      "  5%|████▋                                                                                             | 240/5000 [03:43<1:14:02,  1.07it/s]"
     ]
    },
    {
     "name": "stdout",
     "output_type": "stream",
     "text": [
      "Epoch 239: Valid loss: 0.29894617199897766, Accuracy: 0.31875109672546387\n",
      "Epoch 240: Train loss: 0.352836549282074, Accuracy: 0.3677884638309479\n"
     ]
    },
    {
     "name": "stderr",
     "output_type": "stream",
     "text": [
      "\r",
      "  5%|████▋                                                                                             | 241/5000 [03:44<1:13:23,  1.08it/s]"
     ]
    },
    {
     "name": "stdout",
     "output_type": "stream",
     "text": [
      "Epoch 240: Valid loss: 0.310377299785614, Accuracy: 0.3309388756752014\n",
      "Epoch 241: Train loss: 0.35897645354270935, Accuracy: 0.3738991916179657\n"
     ]
    },
    {
     "name": "stderr",
     "output_type": "stream",
     "text": [
      "\r",
      "  5%|████▋                                                                                             | 242/5000 [03:45<1:12:45,  1.09it/s]"
     ]
    },
    {
     "name": "stdout",
     "output_type": "stream",
     "text": [
      "Epoch 241: Valid loss: 0.33360612392425537, Accuracy: 0.35531309247016907\n",
      "Epoch 242: Train loss: 0.3500082194805145, Accuracy: 0.36491620540618896\n"
     ]
    },
    {
     "name": "stderr",
     "output_type": "stream",
     "text": [
      "\r",
      "  5%|████▊                                                                                             | 243/5000 [03:46<1:12:44,  1.09it/s]"
     ]
    },
    {
     "name": "stdout",
     "output_type": "stream",
     "text": [
      "Epoch 242: Valid loss: 0.3216875493526459, Accuracy: 0.3431251645088196\n",
      "Epoch 243: Train loss: 0.354779452085495, Accuracy: 0.36968526244163513\n"
     ]
    },
    {
     "name": "stderr",
     "output_type": "stream",
     "text": [
      "\r",
      "  5%|████▊                                                                                             | 244/5000 [03:47<1:12:53,  1.09it/s]"
     ]
    },
    {
     "name": "stdout",
     "output_type": "stream",
     "text": [
      "Epoch 243: Valid loss: 0.3236345052719116, Accuracy: 0.3309420347213745\n",
      "Epoch 244: Train loss: 0.35813891887664795, Accuracy: 0.3731391429901123\n"
     ]
    },
    {
     "name": "stderr",
     "output_type": "stream",
     "text": [
      "\r",
      "  5%|████▊                                                                                             | 245/5000 [03:48<1:12:34,  1.09it/s]"
     ]
    },
    {
     "name": "stdout",
     "output_type": "stream",
     "text": [
      "Epoch 244: Valid loss: 0.372952938079834, Accuracy: 0.39187532663345337\n",
      "Epoch 245: Train loss: 0.35199403762817383, Accuracy: 0.3664206862449646\n"
     ]
    },
    {
     "name": "stderr",
     "output_type": "stream",
     "text": [
      "\r",
      "  5%|████▊                                                                                             | 246/5000 [03:49<1:12:24,  1.09it/s]"
     ]
    },
    {
     "name": "stdout",
     "output_type": "stream",
     "text": [
      "Epoch 245: Valid loss: 0.3681325316429138, Accuracy: 0.39187532663345337\n",
      "Epoch 246: Train loss: 0.35264167189598083, Accuracy: 0.3675766885280609\n"
     ]
    },
    {
     "name": "stderr",
     "output_type": "stream",
     "text": [
      "\r",
      "  5%|████▊                                                                                             | 247/5000 [03:50<1:12:38,  1.09it/s]"
     ]
    },
    {
     "name": "stdout",
     "output_type": "stream",
     "text": [
      "Epoch 246: Valid loss: 0.3558235764503479, Accuracy: 0.37968772649765015\n",
      "Epoch 247: Train loss: 0.3505280017852783, Accuracy: 0.3655366003513336\n"
     ]
    },
    {
     "name": "stderr",
     "output_type": "stream",
     "text": [
      "\r",
      "  5%|████▊                                                                                             | 248/5000 [03:51<1:12:26,  1.09it/s]"
     ]
    },
    {
     "name": "stdout",
     "output_type": "stream",
     "text": [
      "Epoch 247: Valid loss: 0.33191370964050293, Accuracy: 0.3553133010864258\n",
      "Epoch 248: Train loss: 0.3507426977157593, Accuracy: 0.3655819594860077\n"
     ]
    },
    {
     "name": "stderr",
     "output_type": "stream",
     "text": [
      "\r",
      "  5%|████▉                                                                                             | 249/5000 [03:52<1:12:43,  1.09it/s]"
     ]
    },
    {
     "name": "stdout",
     "output_type": "stream",
     "text": [
      "Epoch 248: Valid loss: 0.34603190422058105, Accuracy: 0.36750054359436035\n",
      "Epoch 249: Train loss: 0.3558293879032135, Accuracy: 0.3706881105899811\n"
     ]
    },
    {
     "name": "stderr",
     "output_type": "stream",
     "text": [
      "\r",
      "  5%|████▉                                                                                             | 250/5000 [03:52<1:12:18,  1.09it/s]"
     ]
    },
    {
     "name": "stdout",
     "output_type": "stream",
     "text": [
      "Epoch 249: Valid loss: 0.33193349838256836, Accuracy: 0.35531318187713623\n",
      "Epoch 250: Train loss: 0.35881859064102173, Accuracy: 0.3738018274307251\n"
     ]
    },
    {
     "name": "stderr",
     "output_type": "stream",
     "text": [
      "\r",
      "  5%|████▉                                                                                             | 251/5000 [03:53<1:12:14,  1.10it/s]"
     ]
    },
    {
     "name": "stdout",
     "output_type": "stream",
     "text": [
      "Epoch 250: Valid loss: 0.3207572400569916, Accuracy: 0.343125581741333\n",
      "Epoch 251: Train loss: 0.3518194556236267, Accuracy: 0.3665316104888916\n"
     ]
    },
    {
     "name": "stderr",
     "output_type": "stream",
     "text": [
      "\r",
      "  5%|████▉                                                                                             | 252/5000 [03:54<1:12:41,  1.09it/s]"
     ]
    },
    {
     "name": "stdout",
     "output_type": "stream",
     "text": [
      "Epoch 251: Valid loss: 0.3921405076980591, Accuracy: 0.4162502884864807\n",
      "Epoch 252: Train loss: 0.3536616265773773, Accuracy: 0.36858221888542175\n"
     ]
    },
    {
     "name": "stderr",
     "output_type": "stream",
     "text": [
      "\r",
      "  5%|████▉                                                                                             | 253/5000 [03:55<1:13:15,  1.08it/s]"
     ]
    },
    {
     "name": "stdout",
     "output_type": "stream",
     "text": [
      "Epoch 252: Valid loss: 0.3562927842140198, Accuracy: 0.3796877861022949\n",
      "Epoch 253: Train loss: 0.35416179895401, Accuracy: 0.3690440356731415\n"
     ]
    },
    {
     "name": "stderr",
     "output_type": "stream",
     "text": [
      "\r",
      "  5%|████▉                                                                                             | 254/5000 [03:56<1:12:39,  1.09it/s]"
     ]
    },
    {
     "name": "stdout",
     "output_type": "stream",
     "text": [
      "Epoch 253: Valid loss: 0.3682306408882141, Accuracy: 0.3918752670288086\n",
      "Epoch 254: Train loss: 0.35359323024749756, Accuracy: 0.3685591518878937\n"
     ]
    },
    {
     "name": "stderr",
     "output_type": "stream",
     "text": [
      "\r",
      "  5%|████▉                                                                                             | 255/5000 [03:57<1:12:41,  1.09it/s]"
     ]
    },
    {
     "name": "stdout",
     "output_type": "stream",
     "text": [
      "Epoch 254: Valid loss: 0.3212508261203766, Accuracy: 0.3431254029273987\n",
      "Epoch 255: Train loss: 0.35447418689727783, Accuracy: 0.3693479299545288\n"
     ]
    },
    {
     "name": "stderr",
     "output_type": "stream",
     "text": [
      "\r",
      "  5%|█████                                                                                             | 256/5000 [03:58<1:12:53,  1.08it/s]"
     ]
    },
    {
     "name": "stdout",
     "output_type": "stream",
     "text": [
      "Epoch 255: Valid loss: 0.3334512412548065, Accuracy: 0.35531342029571533\n",
      "Epoch 256: Train loss: 0.35044553875923157, Accuracy: 0.3654557764530182\n"
     ]
    },
    {
     "name": "stderr",
     "output_type": "stream",
     "text": [
      "\r",
      "  5%|█████                                                                                             | 257/5000 [03:59<1:12:59,  1.08it/s]"
     ]
    },
    {
     "name": "stdout",
     "output_type": "stream",
     "text": [
      "Epoch 256: Valid loss: 0.34424999356269836, Accuracy: 0.367500364780426\n",
      "Epoch 257: Train loss: 0.35296016931533813, Accuracy: 0.3679194450378418\n"
     ]
    },
    {
     "name": "stderr",
     "output_type": "stream",
     "text": [
      "\r",
      "  5%|█████                                                                                             | 258/5000 [04:00<1:13:03,  1.08it/s]"
     ]
    },
    {
     "name": "stdout",
     "output_type": "stream",
     "text": [
      "Epoch 257: Valid loss: 0.3093305826187134, Accuracy: 0.3309380114078522\n",
      "Epoch 258: Train loss: 0.3494868874549866, Accuracy: 0.36443623900413513\n"
     ]
    },
    {
     "name": "stderr",
     "output_type": "stream",
     "text": [
      "\r",
      "  5%|█████                                                                                             | 259/5000 [04:01<1:13:05,  1.08it/s]"
     ]
    },
    {
     "name": "stdout",
     "output_type": "stream",
     "text": [
      "Epoch 258: Valid loss: 0.3682659864425659, Accuracy: 0.3918752670288086\n",
      "Epoch 259: Train loss: 0.3506923317909241, Accuracy: 0.36534786224365234\n"
     ]
    },
    {
     "name": "stderr",
     "output_type": "stream",
     "text": [
      "\r",
      "  5%|█████                                                                                             | 260/5000 [04:02<1:13:01,  1.08it/s]"
     ]
    },
    {
     "name": "stdout",
     "output_type": "stream",
     "text": [
      "Epoch 259: Valid loss: 0.30822840332984924, Accuracy: 0.3309379816055298\n",
      "Epoch 260: Train loss: 0.35123738646507263, Accuracy: 0.366180419921875\n"
     ]
    },
    {
     "name": "stderr",
     "output_type": "stream",
     "text": [
      "\r",
      "  5%|█████                                                                                             | 261/5000 [04:03<1:12:29,  1.09it/s]"
     ]
    },
    {
     "name": "stdout",
     "output_type": "stream",
     "text": [
      "Epoch 260: Valid loss: 0.36792224645614624, Accuracy: 0.3918754756450653\n",
      "Epoch 261: Train loss: 0.34978562593460083, Accuracy: 0.36453235149383545\n"
     ]
    },
    {
     "name": "stderr",
     "output_type": "stream",
     "text": [
      "\r",
      "  5%|█████▏                                                                                            | 262/5000 [04:03<1:11:54,  1.10it/s]"
     ]
    },
    {
     "name": "stdout",
     "output_type": "stream",
     "text": [
      "Epoch 261: Valid loss: 0.3436200022697449, Accuracy: 0.36750030517578125\n",
      "Epoch 262: Train loss: 0.35267558693885803, Accuracy: 0.3673449456691742\n"
     ]
    },
    {
     "name": "stderr",
     "output_type": "stream",
     "text": [
      "\r",
      "  5%|█████▏                                                                                            | 263/5000 [04:04<1:11:55,  1.10it/s]"
     ]
    },
    {
     "name": "stdout",
     "output_type": "stream",
     "text": [
      "Epoch 262: Valid loss: 0.32095611095428467, Accuracy: 0.3431257903575897\n",
      "Epoch 263: Train loss: 0.3518500030040741, Accuracy: 0.3666689395904541\n"
     ]
    },
    {
     "name": "stderr",
     "output_type": "stream",
     "text": [
      "\r",
      "  5%|█████▏                                                                                            | 264/5000 [04:05<1:12:12,  1.09it/s]"
     ]
    },
    {
     "name": "stdout",
     "output_type": "stream",
     "text": [
      "Epoch 263: Valid loss: 0.30989721417427063, Accuracy: 0.33093804121017456\n",
      "Epoch 264: Train loss: 0.3518138825893402, Accuracy: 0.366725355386734\n"
     ]
    },
    {
     "name": "stderr",
     "output_type": "stream",
     "text": [
      "\r",
      "  5%|█████▏                                                                                            | 265/5000 [04:06<1:11:54,  1.10it/s]"
     ]
    },
    {
     "name": "stdout",
     "output_type": "stream",
     "text": [
      "Epoch 264: Valid loss: 0.33164745569229126, Accuracy: 0.3553130030632019\n",
      "Epoch 265: Train loss: 0.3520720303058624, Accuracy: 0.36702147126197815\n"
     ]
    },
    {
     "name": "stderr",
     "output_type": "stream",
     "text": [
      "\r",
      "  5%|█████▏                                                                                            | 266/5000 [04:07<1:11:40,  1.10it/s]"
     ]
    },
    {
     "name": "stdout",
     "output_type": "stream",
     "text": [
      "Epoch 265: Valid loss: 0.3275855481624603, Accuracy: 0.34312593936920166\n",
      "Epoch 266: Train loss: 0.35190150141716003, Accuracy: 0.3668215870857239\n"
     ]
    },
    {
     "name": "stderr",
     "output_type": "stream",
     "text": [
      "\r",
      "  5%|█████▏                                                                                            | 267/5000 [04:08<1:11:45,  1.10it/s]"
     ]
    },
    {
     "name": "stdout",
     "output_type": "stream",
     "text": [
      "Epoch 266: Valid loss: 0.35580572485923767, Accuracy: 0.37968775629997253\n",
      "Epoch 267: Train loss: 0.35361766815185547, Accuracy: 0.3683636784553528\n"
     ]
    },
    {
     "name": "stderr",
     "output_type": "stream",
     "text": [
      "\r",
      "  5%|█████▎                                                                                            | 268/5000 [04:09<1:11:31,  1.10it/s]"
     ]
    },
    {
     "name": "stdout",
     "output_type": "stream",
     "text": [
      "Epoch 267: Valid loss: 0.28602588176727295, Accuracy: 0.3065639138221741\n",
      "Epoch 268: Train loss: 0.3487926423549652, Accuracy: 0.36342567205429077\n"
     ]
    },
    {
     "name": "stderr",
     "output_type": "stream",
     "text": [
      "\r",
      "  5%|█████▎                                                                                            | 269/5000 [04:10<1:12:22,  1.09it/s]"
     ]
    },
    {
     "name": "stdout",
     "output_type": "stream",
     "text": [
      "Epoch 268: Valid loss: 0.34550368785858154, Accuracy: 0.3675006628036499\n",
      "Epoch 269: Train loss: 0.3501991033554077, Accuracy: 0.3651067018508911\n"
     ]
    },
    {
     "name": "stderr",
     "output_type": "stream",
     "text": [
      "\r",
      "  5%|█████▎                                                                                            | 270/5000 [04:11<1:11:47,  1.10it/s]"
     ]
    },
    {
     "name": "stdout",
     "output_type": "stream",
     "text": [
      "Epoch 269: Valid loss: 0.3567764461040497, Accuracy: 0.37968772649765015\n",
      "Epoch 270: Train loss: 0.35262298583984375, Accuracy: 0.3664841651916504\n"
     ]
    },
    {
     "name": "stderr",
     "output_type": "stream",
     "text": [
      "\r",
      "  5%|█████▎                                                                                            | 271/5000 [04:12<1:11:31,  1.10it/s]"
     ]
    },
    {
     "name": "stdout",
     "output_type": "stream",
     "text": [
      "Epoch 270: Valid loss: 0.3325516879558563, Accuracy: 0.3553130328655243\n",
      "Epoch 271: Train loss: 0.3538806438446045, Accuracy: 0.3687821626663208\n"
     ]
    },
    {
     "name": "stderr",
     "output_type": "stream",
     "text": [
      "\r",
      "  5%|█████▎                                                                                            | 272/5000 [04:13<1:11:07,  1.11it/s]"
     ]
    },
    {
     "name": "stdout",
     "output_type": "stream",
     "text": [
      "Epoch 271: Valid loss: 0.344644159078598, Accuracy: 0.3675007224082947\n",
      "Epoch 272: Train loss: 0.35660749673843384, Accuracy: 0.37134218215942383\n"
     ]
    },
    {
     "name": "stderr",
     "output_type": "stream",
     "text": [
      "\r",
      "  5%|█████▎                                                                                            | 273/5000 [04:13<1:11:27,  1.10it/s]"
     ]
    },
    {
     "name": "stdout",
     "output_type": "stream",
     "text": [
      "Epoch 272: Valid loss: 0.42826810479164124, Accuracy: 0.4528128504753113\n",
      "Epoch 273: Train loss: 0.35394757986068726, Accuracy: 0.36881208419799805\n"
     ]
    },
    {
     "name": "stderr",
     "output_type": "stream",
     "text": [
      "\r",
      "  5%|█████▎                                                                                            | 274/5000 [04:14<1:11:04,  1.11it/s]"
     ]
    },
    {
     "name": "stdout",
     "output_type": "stream",
     "text": [
      "Epoch 273: Valid loss: 0.3318901062011719, Accuracy: 0.3553128242492676\n",
      "Epoch 274: Train loss: 0.353003591299057, Accuracy: 0.3677896559238434\n"
     ]
    },
    {
     "name": "stderr",
     "output_type": "stream",
     "text": [
      "\r",
      "  6%|█████▍                                                                                            | 275/5000 [04:15<1:11:00,  1.11it/s]"
     ]
    },
    {
     "name": "stdout",
     "output_type": "stream",
     "text": [
      "Epoch 274: Valid loss: 0.3804437220096588, Accuracy: 0.40406346321105957\n",
      "Epoch 275: Train loss: 0.3499133288860321, Accuracy: 0.3642188608646393\n"
     ]
    },
    {
     "name": "stderr",
     "output_type": "stream",
     "text": [
      "\r",
      "  6%|█████▍                                                                                            | 276/5000 [04:16<1:11:15,  1.10it/s]"
     ]
    },
    {
     "name": "stdout",
     "output_type": "stream",
     "text": [
      "Epoch 275: Valid loss: 0.3312959671020508, Accuracy: 0.3553133010864258\n",
      "Epoch 276: Train loss: 0.34858718514442444, Accuracy: 0.3635513484477997\n"
     ]
    },
    {
     "name": "stderr",
     "output_type": "stream",
     "text": [
      "\r",
      "  6%|█████▍                                                                                            | 277/5000 [04:17<1:11:18,  1.10it/s]"
     ]
    },
    {
     "name": "stdout",
     "output_type": "stream",
     "text": [
      "Epoch 276: Valid loss: 0.3552461564540863, Accuracy: 0.37968766689300537\n",
      "Epoch 277: Train loss: 0.35580167174339294, Accuracy: 0.3706371486186981\n"
     ]
    },
    {
     "name": "stderr",
     "output_type": "stream",
     "text": [
      "\r",
      "  6%|█████▍                                                                                            | 278/5000 [04:18<1:12:14,  1.09it/s]"
     ]
    },
    {
     "name": "stdout",
     "output_type": "stream",
     "text": [
      "Epoch 277: Valid loss: 0.3323955535888672, Accuracy: 0.355312705039978\n",
      "Epoch 278: Train loss: 0.3508027195930481, Accuracy: 0.3657611608505249\n"
     ]
    },
    {
     "name": "stderr",
     "output_type": "stream",
     "text": [
      "\r",
      "  6%|█████▍                                                                                            | 279/5000 [04:19<1:12:11,  1.09it/s]"
     ]
    },
    {
     "name": "stdout",
     "output_type": "stream",
     "text": [
      "Epoch 278: Valid loss: 0.3075248599052429, Accuracy: 0.3309381306171417\n",
      "Epoch 279: Train loss: 0.35191354155540466, Accuracy: 0.36661311984062195\n"
     ]
    },
    {
     "name": "stderr",
     "output_type": "stream",
     "text": [
      "\r",
      "  6%|█████▍                                                                                            | 280/5000 [04:20<1:13:14,  1.07it/s]"
     ]
    },
    {
     "name": "stdout",
     "output_type": "stream",
     "text": [
      "Epoch 279: Valid loss: 0.35698768496513367, Accuracy: 0.3796882629394531\n",
      "Epoch 280: Train loss: 0.35525575280189514, Accuracy: 0.3701896369457245\n"
     ]
    },
    {
     "name": "stderr",
     "output_type": "stream",
     "text": [
      "\r",
      "  6%|█████▌                                                                                            | 281/5000 [04:21<1:13:17,  1.07it/s]"
     ]
    },
    {
     "name": "stdout",
     "output_type": "stream",
     "text": [
      "Epoch 280: Valid loss: 0.3693011701107025, Accuracy: 0.39187538623809814\n",
      "Epoch 281: Train loss: 0.3541524410247803, Accuracy: 0.3689676523208618\n"
     ]
    },
    {
     "name": "stderr",
     "output_type": "stream",
     "text": [
      "\r",
      "  6%|█████▌                                                                                            | 282/5000 [04:22<1:13:13,  1.07it/s]"
     ]
    },
    {
     "name": "stdout",
     "output_type": "stream",
     "text": [
      "Epoch 281: Valid loss: 0.3435407280921936, Accuracy: 0.36750054359436035\n",
      "Epoch 282: Train loss: 0.3579487204551697, Accuracy: 0.37290728092193604\n"
     ]
    },
    {
     "name": "stderr",
     "output_type": "stream",
     "text": [
      "\r",
      "  6%|█████▌                                                                                            | 283/5000 [04:23<1:14:06,  1.06it/s]"
     ]
    },
    {
     "name": "stdout",
     "output_type": "stream",
     "text": [
      "Epoch 282: Valid loss: 0.30148687958717346, Accuracy: 0.31875109672546387\n",
      "Epoch 283: Train loss: 0.35379859805107117, Accuracy: 0.3684924840927124\n"
     ]
    },
    {
     "name": "stderr",
     "output_type": "stream",
     "text": [
      "\r",
      "  6%|█████▌                                                                                            | 284/5000 [04:24<1:14:39,  1.05it/s]"
     ]
    },
    {
     "name": "stdout",
     "output_type": "stream",
     "text": [
      "Epoch 283: Valid loss: 0.3323345184326172, Accuracy: 0.35531288385391235\n",
      "Epoch 284: Train loss: 0.35003259778022766, Accuracy: 0.36468008160591125\n"
     ]
    },
    {
     "name": "stderr",
     "output_type": "stream",
     "text": [
      "\r",
      "  6%|█████▌                                                                                            | 285/5000 [04:25<1:15:36,  1.04it/s]"
     ]
    },
    {
     "name": "stdout",
     "output_type": "stream",
     "text": [
      "Epoch 284: Valid loss: 0.36016181111335754, Accuracy: 0.3796887993812561\n",
      "Epoch 285: Train loss: 0.34969446063041687, Accuracy: 0.36420533061027527\n"
     ]
    },
    {
     "name": "stderr",
     "output_type": "stream",
     "text": [
      "\r",
      "  6%|█████▌                                                                                            | 286/5000 [04:26<1:15:03,  1.05it/s]"
     ]
    },
    {
     "name": "stdout",
     "output_type": "stream",
     "text": [
      "Epoch 285: Valid loss: 0.3463674783706665, Accuracy: 0.367500901222229\n",
      "Epoch 286: Train loss: 0.35038307309150696, Accuracy: 0.365260511636734\n"
     ]
    },
    {
     "name": "stderr",
     "output_type": "stream",
     "text": [
      "\r",
      "  6%|█████▋                                                                                            | 287/5000 [04:27<1:15:07,  1.05it/s]"
     ]
    },
    {
     "name": "stdout",
     "output_type": "stream",
     "text": [
      "Epoch 286: Valid loss: 0.3324446678161621, Accuracy: 0.35531285405158997\n",
      "Epoch 287: Train loss: 0.355720192193985, Accuracy: 0.37073731422424316\n"
     ]
    },
    {
     "name": "stderr",
     "output_type": "stream",
     "text": [
      "\r",
      "  6%|█████▋                                                                                            | 288/5000 [04:28<1:14:59,  1.05it/s]"
     ]
    },
    {
     "name": "stdout",
     "output_type": "stream",
     "text": [
      "Epoch 287: Valid loss: 0.33272886276245117, Accuracy: 0.3553127646446228\n",
      "Epoch 288: Train loss: 0.3539732098579407, Accuracy: 0.3689408004283905\n"
     ]
    },
    {
     "name": "stderr",
     "output_type": "stream",
     "text": [
      "\r",
      "  6%|█████▋                                                                                            | 289/5000 [04:29<1:15:54,  1.03it/s]"
     ]
    },
    {
     "name": "stdout",
     "output_type": "stream",
     "text": [
      "Epoch 288: Valid loss: 0.3447439670562744, Accuracy: 0.36750084161758423\n",
      "Epoch 289: Train loss: 0.3534976541996002, Accuracy: 0.3685251474380493\n"
     ]
    },
    {
     "name": "stderr",
     "output_type": "stream",
     "text": [
      "\r",
      "  6%|█████▋                                                                                            | 290/5000 [04:29<1:15:07,  1.05it/s]"
     ]
    },
    {
     "name": "stdout",
     "output_type": "stream",
     "text": [
      "Epoch 289: Valid loss: 0.3320949077606201, Accuracy: 0.3553129732608795\n",
      "Epoch 290: Train loss: 0.35135167837142944, Accuracy: 0.36631637811660767\n"
     ]
    },
    {
     "name": "stderr",
     "output_type": "stream",
     "text": [
      "\r",
      "  6%|█████▋                                                                                            | 291/5000 [04:30<1:14:50,  1.05it/s]"
     ]
    },
    {
     "name": "stdout",
     "output_type": "stream",
     "text": [
      "Epoch 290: Valid loss: 0.3352878987789154, Accuracy: 0.355314165353775\n",
      "Epoch 291: Train loss: 0.35283151268959045, Accuracy: 0.3677525222301483\n"
     ]
    },
    {
     "name": "stderr",
     "output_type": "stream",
     "text": [
      "\r",
      "  6%|█████▋                                                                                            | 292/5000 [04:31<1:15:35,  1.04it/s]"
     ]
    },
    {
     "name": "stdout",
     "output_type": "stream",
     "text": [
      "Epoch 291: Valid loss: 0.3320508599281311, Accuracy: 0.35531291365623474\n"
     ]
    }
   ],
   "source": [
    "dataset = TitanicDataset(data_root=config['data_root'], training=True, transform=ToTensor())\n",
    "train_set, valid_set = train_valid_split(dataset, 0.1)\n",
    "\n",
    "train_dataloader = DataLoader(train_set, batch_size=config['batch_size'], shuffle=True, num_workers=config['num_worker'])\n",
    "valid_dataloader = DataLoader(valid_set, batch_size=config['batch_size'], shuffle=True, num_workers=config['num_worker'])\n",
    "\n",
    "model = SurvivalNet(config['mlp_arch'])\n",
    "device = torch.device('cuda' if torch.cuda.is_available() else 'cpu')\n",
    "model = model.to(device)\n",
    "\n",
    "loss = nn.MSELoss(reduction='mean')\n",
    "\n",
    "trainable_params = filter(lambda p: p.requires_grad, model.parameters())\n",
    "optimizer = torch.optim.Adam(\n",
    "    trainable_params,\n",
    "    lr=config['learning_rate'],\n",
    "    weight_decay=0,\n",
    "    amsgrad=True\n",
    ")\n",
    "lr_scheduler = torch.optim.lr_scheduler.StepLR(\n",
    "    optimizer,\n",
    "    step_size=50,\n",
    "    gamma=0.1\n",
    ")\n",
    "\n",
    "trainer = Trainer(\n",
    "    num_epoch=config['num_epoch'],\n",
    "    train_data_loader=train_dataloader,\n",
    "    valid_data_loader=valid_dataloader,\n",
    "    model=model,\n",
    "    optimizer=optimizer,\n",
    "    lr_scheduler=lr_scheduler,\n",
    "    criterion=loss,\n",
    "    metric=accurancy,\n",
    "    early_stop_epoch=config['early_stop_epoch'],\n",
    "    save_period = config['save_period'],\n",
    "    device = device\n",
    ")\n",
    "\n",
    "trainer.train()"
   ]
  },
  {
   "cell_type": "code",
   "execution_count": null,
   "id": "11702234",
   "metadata": {},
   "outputs": [],
   "source": []
  }
 ],
 "metadata": {
  "kernelspec": {
   "display_name": "Python 3 (ipykernel)",
   "language": "python",
   "name": "python3"
  },
  "language_info": {
   "codemirror_mode": {
    "name": "ipython",
    "version": 3
   },
   "file_extension": ".py",
   "mimetype": "text/x-python",
   "name": "python",
   "nbconvert_exporter": "python",
   "pygments_lexer": "ipython3",
   "version": "3.10.10"
  },
  "toc": {
   "base_numbering": 1,
   "nav_menu": {},
   "number_sections": true,
   "sideBar": true,
   "skip_h1_title": false,
   "title_cell": "Table of Contents",
   "title_sidebar": "Contents",
   "toc_cell": false,
   "toc_position": {},
   "toc_section_display": true,
   "toc_window_display": false
  }
 },
 "nbformat": 4,
 "nbformat_minor": 5
}

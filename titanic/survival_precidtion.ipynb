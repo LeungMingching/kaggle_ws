{
 "cells": [
  {
   "cell_type": "code",
   "execution_count": 9,
   "id": "5edea7f0",
   "metadata": {},
   "outputs": [],
   "source": [
    "import os\n",
    "import torch\n",
    "import numpy as np\n",
    "import pandas as pd\n",
    "\n",
    "from tqdm import tqdm"
   ]
  },
  {
   "cell_type": "markdown",
   "id": "8e2d2e80",
   "metadata": {},
   "source": [
    "# Configuration"
   ]
  },
  {
   "cell_type": "code",
   "execution_count": 10,
   "id": "fb335e29",
   "metadata": {},
   "outputs": [],
   "source": [
    "config = {\n",
    "    'data_root': './data',\n",
    "    'device': 'mps'\n",
    "}"
   ]
  },
  {
   "cell_type": "markdown",
   "id": "f7879af3",
   "metadata": {},
   "source": [
    "# Utils"
   ]
  },
  {
   "cell_type": "code",
   "execution_count": 19,
   "id": "fabf94cd",
   "metadata": {},
   "outputs": [],
   "source": [
    "from torch.utils.data import random_split"
   ]
  },
  {
   "cell_type": "code",
   "execution_count": 24,
   "id": "a7c6e3a6",
   "metadata": {},
   "outputs": [],
   "source": [
    "def train_valid_split(full_dataset, valid_ratio):\n",
    "    train_set, valid_set = random_split(full_dataset, [1-valid_ratio, valid_ratio])\n",
    "    return train_set, valid_set"
   ]
  },
  {
   "cell_type": "markdown",
   "id": "918702f2",
   "metadata": {},
   "source": [
    "# Dataset"
   ]
  },
  {
   "cell_type": "code",
   "execution_count": 25,
   "id": "d9ef94ba",
   "metadata": {},
   "outputs": [],
   "source": [
    "from torch.utils.data import Dataset"
   ]
  },
  {
   "cell_type": "code",
   "execution_count": 26,
   "id": "29bf56dd",
   "metadata": {},
   "outputs": [],
   "source": [
    "class TitanicDataset(Dataset):\n",
    "    def __init__(self, data_root, training=False, transform=None):\n",
    "        self.data_root = data_root\n",
    "        self.training = training\n",
    "        self.transform = transform\n",
    "        \n",
    "        if training:\n",
    "            file_name = 'train.csv'\n",
    "        else:\n",
    "            file_name = 'test.csv'\n",
    "            \n",
    "        self.dataset = pd.read_csv(os.path.join(data_root, file_name))\n",
    "        \n",
    "    def __len__(self):\n",
    "        return len(self.dataset)\n",
    "\n",
    "    def __getitem__(self, idx):  \n",
    "        pclass = np.array(self.dataset['Pclass'][idx], dtype=np.float64)\n",
    "        name = self.dataset['Name'][idx] # not used\n",
    "        sex = np.array(pd.get_dummies(self.dataset['Sex']).iloc[idx], dtype=np.float64)\n",
    "        age = np.array(self.dataset['Age'][idx] if not np.isnan(self.dataset['Age'][idx]) else -1, dtype=np.float64)\n",
    "        sibsp = np.array(self.dataset['SibSp'][idx], dtype=np.float64)\n",
    "        parch = np.array(self.dataset['Parch'][idx], dtype=np.float64)\n",
    "        ticket = self.dataset['Ticket'][idx] # not used\n",
    "        fare = np.array(self.dataset['Fare'][idx], dtype=np.float64)\n",
    "        cabin = self.dataset['Cabin'][idx] # not used\n",
    "        embarked = np.array(pd.get_dummies(self.dataset['Embarked']).iloc[idx], dtype=np.float64)\n",
    "        \n",
    "        if self.training:\n",
    "            label = np.array(self.dataset['Survived'][idx], dtype=np.float64)\n",
    "        else:\n",
    "            label = None\n",
    "        \n",
    "        # feature: [paclass, female, male, age, sibsp, parch, fare, embarked(C), embarked(Q), embarked(S)]\n",
    "        feature = np.concatenate((pclass, sex, age, sibsp, parch, fare, embarked), axis=None)\n",
    "        sample = {'feature': feature, 'label': label}\n",
    "        if self.transform:\n",
    "            return self.transform(sample)\n",
    "        else:\n",
    "            return sample"
   ]
  },
  {
   "cell_type": "code",
   "execution_count": 29,
   "id": "eecc60dc",
   "metadata": {},
   "outputs": [
    {
     "data": {
      "text/plain": [
       "(377, 41)"
      ]
     },
     "execution_count": 29,
     "metadata": {},
     "output_type": "execute_result"
    }
   ],
   "source": [
    "dataset = TitanicDataset(data_root=config['data_root'], training=False)\n",
    "train_set, valid_set = train_valid_split(dataset, 0.1)\n",
    "len(train_set), len(valid_set)"
   ]
  },
  {
   "cell_type": "markdown",
   "id": "b262c16b",
   "metadata": {},
   "source": [
    "# Data Loader"
   ]
  },
  {
   "cell_type": "code",
   "execution_count": 1,
   "id": "be4c7375",
   "metadata": {},
   "outputs": [],
   "source": [
    "from torch.utils.data import DataLoader"
   ]
  },
  {
   "cell_type": "code",
   "execution_count": null,
   "id": "672e0082",
   "metadata": {},
   "outputs": [],
   "source": []
  },
  {
   "cell_type": "markdown",
   "id": "4d70623c",
   "metadata": {},
   "source": [
    "# Network"
   ]
  },
  {
   "cell_type": "code",
   "execution_count": null,
   "id": "eaa31427",
   "metadata": {},
   "outputs": [],
   "source": []
  },
  {
   "cell_type": "markdown",
   "id": "fdd7598f",
   "metadata": {},
   "source": [
    "# Loss"
   ]
  },
  {
   "cell_type": "code",
   "execution_count": null,
   "id": "1e5965b0",
   "metadata": {},
   "outputs": [],
   "source": []
  },
  {
   "cell_type": "markdown",
   "id": "5b0e8446",
   "metadata": {},
   "source": [
    "# Metrics"
   ]
  },
  {
   "cell_type": "code",
   "execution_count": null,
   "id": "5658c288",
   "metadata": {},
   "outputs": [],
   "source": []
  },
  {
   "cell_type": "markdown",
   "id": "c4eca94e",
   "metadata": {},
   "source": [
    "# Trainer"
   ]
  },
  {
   "cell_type": "code",
   "execution_count": null,
   "id": "ff7d7767",
   "metadata": {},
   "outputs": [],
   "source": []
  },
  {
   "cell_type": "markdown",
   "id": "cf7666f6",
   "metadata": {},
   "source": [
    "# Train"
   ]
  },
  {
   "cell_type": "code",
   "execution_count": null,
   "id": "9e8feadd",
   "metadata": {},
   "outputs": [],
   "source": []
  },
  {
   "cell_type": "code",
   "execution_count": null,
   "id": "ff74e6fa",
   "metadata": {},
   "outputs": [],
   "source": []
  },
  {
   "cell_type": "code",
   "execution_count": null,
   "id": "485a2cd7",
   "metadata": {},
   "outputs": [],
   "source": []
  },
  {
   "cell_type": "code",
   "execution_count": null,
   "id": "11702234",
   "metadata": {},
   "outputs": [],
   "source": []
  }
 ],
 "metadata": {
  "kernelspec": {
   "display_name": "Python 3 (ipykernel)",
   "language": "python",
   "name": "python3"
  },
  "language_info": {
   "codemirror_mode": {
    "name": "ipython",
    "version": 3
   },
   "file_extension": ".py",
   "mimetype": "text/x-python",
   "name": "python",
   "nbconvert_exporter": "python",
   "pygments_lexer": "ipython3",
   "version": "3.10.10"
  },
  "toc": {
   "base_numbering": 1,
   "nav_menu": {},
   "number_sections": true,
   "sideBar": true,
   "skip_h1_title": false,
   "title_cell": "Table of Contents",
   "title_sidebar": "Contents",
   "toc_cell": false,
   "toc_position": {},
   "toc_section_display": true,
   "toc_window_display": false
  }
 },
 "nbformat": 4,
 "nbformat_minor": 5
}
